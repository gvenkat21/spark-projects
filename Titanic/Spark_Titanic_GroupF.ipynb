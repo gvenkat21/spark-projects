{
 "cells": [
  {
   "cell_type": "code",
   "execution_count": 1,
   "metadata": {
    "collapsed": true
   },
   "outputs": [],
   "source": [
    "import seaborn as sns\n",
    "import numpy as np\n",
    "import pandas as pd\n",
    "import collections # For frequency counting\n",
    "import findspark\n",
    "findspark.init(\"/home/arpit/Downloads/spark2\")\n",
    "\n",
    "import pyspark\n",
    "from pyspark.sql import DataFrameNaFunctions\n",
    "from pyspark.sql.functions import lit # Create columns of *literal* value\n",
    "from pyspark.sql.functions import col # Returns a Column based on the \n",
    "                                      # given column name\n",
    "from pyspark.ml.feature import StringIndexer #label encoding\n",
    "from pyspark.ml import Pipeline\n",
    "\n",
    "sc = pyspark.SparkContext(appName=\"helloworld\")"
   ]
  },
  {
   "cell_type": "code",
   "execution_count": 2,
   "metadata": {
    "collapsed": false
   },
   "outputs": [],
   "source": [
    "from pyspark.sql import SparkSession\n",
    "\n",
    "spark = SparkSession \\\n",
    "    .builder \\\n",
    "    .appName(\"Python Spark SQL basic example\") \\\n",
    "    .config(\"spark.some.config.option\", \"some-value\") \\\n",
    "    .getOrCreate()"
   ]
  },
  {
   "cell_type": "code",
   "execution_count": 3,
   "metadata": {
    "collapsed": true
   },
   "outputs": [],
   "source": [
    "trainDF = spark.read.csv(\"/home/arpit/Downloads/spark_machine_learning_tutorial-master (3)/Hands-on_Activities/data/train.csv\", header=\"true\")\n",
    "testDF = spark.read.csv(\"/home/arpit/Downloads/spark_machine_learning_tutorial-master (3)/Hands-on_Activities/data/test.csv\", header=\"true\")"
   ]
  },
  {
   "cell_type": "code",
   "execution_count": 4,
   "metadata": {
    "collapsed": false
   },
   "outputs": [
    {
     "data": {
      "text/plain": [
       "891"
      ]
     },
     "execution_count": 4,
     "metadata": {},
     "output_type": "execute_result"
    }
   ],
   "source": [
    "trainDF.count()"
   ]
  },
  {
   "cell_type": "markdown",
   "metadata": {},
   "source": [
    "**Combine train and test data.**"
   ]
  },
  {
   "cell_type": "code",
   "execution_count": 5,
   "metadata": {
    "collapsed": false
   },
   "outputs": [],
   "source": [
    "## Add Survived column to test, and dataset name as a column\n",
    "trainDF = trainDF.withColumn('Mark', lit('train'))\n",
    "testDF = (testDF.withColumn('Survived',lit(0))\n",
    "                .withColumn('Mark', lit('test')))\n",
    "testDF = testDF[trainDF.columns]\n",
    "\n",
    "## Append Test data to Train data\n",
    "df = trainDF.unionAll(testDF)"
   ]
  },
  {
   "cell_type": "code",
   "execution_count": 6,
   "metadata": {
    "collapsed": true
   },
   "outputs": [],
   "source": [
    "df.createOrReplaceTempView(\"train\")"
   ]
  },
  {
   "cell_type": "code",
   "execution_count": 7,
   "metadata": {
    "collapsed": false
   },
   "outputs": [
    {
     "data": {
      "text/plain": [
       "['PassengerId',\n",
       " 'Survived',\n",
       " 'Pclass',\n",
       " 'Name',\n",
       " 'Sex',\n",
       " 'Age',\n",
       " 'SibSp',\n",
       " 'Parch',\n",
       " 'Ticket',\n",
       " 'Fare',\n",
       " 'Cabin',\n",
       " 'Embarked',\n",
       " 'Mark']"
      ]
     },
     "execution_count": 7,
     "metadata": {},
     "output_type": "execute_result"
    }
   ],
   "source": [
    "df.columns"
   ]
  },
  {
   "cell_type": "code",
   "execution_count": 8,
   "metadata": {
    "collapsed": false
   },
   "outputs": [
    {
     "name": "stdout",
     "output_type": "stream",
     "text": [
      "root\n",
      " |-- PassengerId: string (nullable = true)\n",
      " |-- Survived: string (nullable = true)\n",
      " |-- Pclass: string (nullable = true)\n",
      " |-- Name: string (nullable = true)\n",
      " |-- Sex: string (nullable = true)\n",
      " |-- Age: string (nullable = true)\n",
      " |-- SibSp: string (nullable = true)\n",
      " |-- Parch: string (nullable = true)\n",
      " |-- Ticket: string (nullable = true)\n",
      " |-- Fare: string (nullable = true)\n",
      " |-- Cabin: string (nullable = true)\n",
      " |-- Embarked: string (nullable = true)\n",
      " |-- Mark: string (nullable = false)\n",
      "\n"
     ]
    }
   ],
   "source": [
    "df.printSchema()"
   ]
  },
  {
   "cell_type": "code",
   "execution_count": 9,
   "metadata": {
    "collapsed": false
   },
   "outputs": [
    {
     "name": "stdout",
     "output_type": "stream",
     "text": [
      "+-----------+--------+------+--------------------+------+---+-----+-----+----------------+-------+-----+--------+-----+\n",
      "|PassengerId|Survived|Pclass|                Name|   Sex|Age|SibSp|Parch|          Ticket|   Fare|Cabin|Embarked| Mark|\n",
      "+-----------+--------+------+--------------------+------+---+-----+-----+----------------+-------+-----+--------+-----+\n",
      "|          1|       0|     3|Braund, Mr. Owen ...|  male| 22|    1|    0|       A/5 21171|   7.25|     |       S|train|\n",
      "|          2|       1|     1|Cumings, Mrs. Joh...|female| 38|    1|    0|        PC 17599|71.2833|  C85|       C|train|\n",
      "|          3|       1|     3|Heikkinen, Miss. ...|female| 26|    0|    0|STON/O2. 3101282|  7.925|     |       S|train|\n",
      "|          4|       1|     1|Futrelle, Mrs. Ja...|female| 35|    1|    0|          113803|   53.1| C123|       S|train|\n",
      "|          5|       0|     3|Allen, Mr. Willia...|  male| 35|    0|    0|          373450|   8.05|     |       S|train|\n",
      "+-----------+--------+------+--------------------+------+---+-----+-----+----------------+-------+-----+--------+-----+\n",
      "only showing top 5 rows\n",
      "\n"
     ]
    }
   ],
   "source": [
    "df.show(5)"
   ]
  },
  {
   "cell_type": "code",
   "execution_count": 10,
   "metadata": {
    "collapsed": false
   },
   "outputs": [],
   "source": [
    "# Here is an example\n",
    "df = df.withColumn(\"AgeTmp\", df[\"Age\"].cast(\"float\")) \\\n",
    "    .drop(\"Age\") \\\n",
    "    .withColumnRenamed(\"AgeTmp\", \"Age\")"
   ]
  },
  {
   "cell_type": "code",
   "execution_count": 11,
   "metadata": {
    "collapsed": false
   },
   "outputs": [],
   "source": [
    "# Let's define function\n",
    "def to_anytype(df, colnames, typename):\n",
    "    for colname in colnames:\n",
    "        df = df.withColumn(\"tmp\", df[colname].cast(typename)) \\\n",
    "        .drop(colname) \\\n",
    "        .withColumnRenamed(\"tmp\", colname)\n",
    "    return(df)"
   ]
  },
  {
   "cell_type": "code",
   "execution_count": 12,
   "metadata": {
    "collapsed": false
   },
   "outputs": [],
   "source": [
    "intCols = ['PassengerId', 'Pclass', 'SibSp', 'Parch', 'Survived']\n",
    "floatCols = ['Age', 'Fare']\n",
    "\n",
    "df = to_anytype(df, intCols, \"integer\")\n",
    "df = to_anytype(df, floatCols, \"float\")"
   ]
  },
  {
   "cell_type": "code",
   "execution_count": 13,
   "metadata": {
    "collapsed": false
   },
   "outputs": [
    {
     "name": "stdout",
     "output_type": "stream",
     "text": [
      "root\n",
      " |-- Name: string (nullable = true)\n",
      " |-- Sex: string (nullable = true)\n",
      " |-- Ticket: string (nullable = true)\n",
      " |-- Cabin: string (nullable = true)\n",
      " |-- Embarked: string (nullable = true)\n",
      " |-- Mark: string (nullable = false)\n",
      " |-- PassengerId: integer (nullable = true)\n",
      " |-- Pclass: integer (nullable = true)\n",
      " |-- SibSp: integer (nullable = true)\n",
      " |-- Parch: integer (nullable = true)\n",
      " |-- Survived: integer (nullable = true)\n",
      " |-- Age: float (nullable = true)\n",
      " |-- Fare: float (nullable = true)\n",
      "\n"
     ]
    }
   ],
   "source": [
    "df.printSchema()"
   ]
  },
  {
   "cell_type": "code",
   "execution_count": 14,
   "metadata": {
    "collapsed": false
   },
   "outputs": [
    {
     "data": {
      "text/plain": [
       "[Row(Name=u'Braund, Mr. Owen Harris', Sex=u'male', Ticket=u'A/5 21171', Cabin=u'', Embarked=u'S', Mark=u'train', PassengerId=1, Pclass=3, SibSp=1, Parch=0, Survived=0, Age=22.0, Fare=7.25),\n",
       " Row(Name=u'Cumings, Mrs. John Bradley (Florence Briggs Thayer)', Sex=u'female', Ticket=u'PC 17599', Cabin=u'C85', Embarked=u'C', Mark=u'train', PassengerId=2, Pclass=1, SibSp=1, Parch=0, Survived=1, Age=38.0, Fare=71.2833023071289),\n",
       " Row(Name=u'Heikkinen, Miss. Laina', Sex=u'female', Ticket=u'STON/O2. 3101282', Cabin=u'', Embarked=u'S', Mark=u'train', PassengerId=3, Pclass=3, SibSp=0, Parch=0, Survived=1, Age=26.0, Fare=7.925000190734863),\n",
       " Row(Name=u'Futrelle, Mrs. Jacques Heath (Lily May Peel)', Sex=u'female', Ticket=u'113803', Cabin=u'C123', Embarked=u'S', Mark=u'train', PassengerId=4, Pclass=1, SibSp=1, Parch=0, Survived=1, Age=35.0, Fare=53.099998474121094),\n",
       " Row(Name=u'Allen, Mr. William Henry', Sex=u'male', Ticket=u'373450', Cabin=u'', Embarked=u'S', Mark=u'train', PassengerId=5, Pclass=3, SibSp=0, Parch=0, Survived=0, Age=35.0, Fare=8.050000190734863)]"
      ]
     },
     "execution_count": 14,
     "metadata": {},
     "output_type": "execute_result"
    }
   ],
   "source": [
    "df.take(5)"
   ]
  },
  {
   "cell_type": "code",
   "execution_count": 15,
   "metadata": {
    "collapsed": false
   },
   "outputs": [
    {
     "name": "stdout",
     "output_type": "stream",
     "text": [
      "+--------------------+------+----------------+-----+--------+-----+-----------+------+-----+-----+--------+----+-------+\n",
      "|                Name|   Sex|          Ticket|Cabin|Embarked| Mark|PassengerId|Pclass|SibSp|Parch|Survived| Age|   Fare|\n",
      "+--------------------+------+----------------+-----+--------+-----+-----------+------+-----+-----+--------+----+-------+\n",
      "|Braund, Mr. Owen ...|  male|       A/5 21171|     |       S|train|          1|     3|    1|    0|       0|22.0|   7.25|\n",
      "|Cumings, Mrs. Joh...|female|        PC 17599|  C85|       C|train|          2|     1|    1|    0|       1|38.0|71.2833|\n",
      "|Heikkinen, Miss. ...|female|STON/O2. 3101282|     |       S|train|          3|     3|    0|    0|       1|26.0|  7.925|\n",
      "|Futrelle, Mrs. Ja...|female|          113803| C123|       S|train|          4|     1|    1|    0|       1|35.0|   53.1|\n",
      "|Allen, Mr. Willia...|  male|          373450|     |       S|train|          5|     3|    0|    0|       0|35.0|   8.05|\n",
      "+--------------------+------+----------------+-----+--------+-----+-----------+------+-----+-----+--------+----+-------+\n",
      "only showing top 5 rows\n",
      "\n"
     ]
    }
   ],
   "source": [
    "df.show(5)"
   ]
  },
  {
   "cell_type": "code",
   "execution_count": 16,
   "metadata": {
    "collapsed": false
   },
   "outputs": [
    {
     "name": "stdout",
     "output_type": "stream",
     "text": [
      "+-------+------------------+\n",
      "|summary|               Age|\n",
      "+-------+------------------+\n",
      "|  count|              1046|\n",
      "|   mean|29.881137667305726|\n",
      "| stddev|14.413493211267733|\n",
      "|    min|              0.17|\n",
      "|    max|              80.0|\n",
      "+-------+------------------+\n",
      "\n"
     ]
    }
   ],
   "source": [
    "df.describe('Age').show()"
   ]
  },
  {
   "cell_type": "code",
   "execution_count": 17,
   "metadata": {
    "collapsed": false
   },
   "outputs": [
    {
     "name": "stdout",
     "output_type": "stream",
     "text": [
      "+-------+------------------+--------------------+\n",
      "|summary|               Age|                Name|\n",
      "+-------+------------------+--------------------+\n",
      "|  count|              1046|                1309|\n",
      "|   mean|29.881137667305726|                null|\n",
      "| stddev|14.413493211267733|                null|\n",
      "|    min|              0.17|\"Andersson, Mr. A...|\n",
      "|    max|              80.0|van Melkebeke, Mr...|\n",
      "+-------+------------------+--------------------+\n",
      "\n"
     ]
    }
   ],
   "source": [
    "df.describe(['Age', 'Name']).show()"
   ]
  },
  {
   "cell_type": "code",
   "execution_count": 18,
   "metadata": {
    "collapsed": false
   },
   "outputs": [
    {
     "name": "stdout",
     "output_type": "stream",
     "text": [
      "+-------+-----------------+-------------------+------------------+--------------------+------+------------------+------------------+------------------+------------------+-----------------+-----+--------+-----+\n",
      "|summary|      PassengerId|           Survived|            Pclass|                Name|   Sex|               Age|             SibSp|             Parch|            Ticket|             Fare|Cabin|Embarked| Mark|\n",
      "+-------+-----------------+-------------------+------------------+--------------------+------+------------------+------------------+------------------+------------------+-----------------+-----+--------+-----+\n",
      "|  count|             1309|               1309|              1309|                1309|  1309|              1046|              1309|              1309|              1309|             1308| 1309|    1309| 1309|\n",
      "|   mean|            655.0| 0.2612681436210848| 2.294881588999236|                null|  null|29.881137667305726|0.4988540870893812|0.3850267379679144| 249039.1368861024|33.29547938203228| null|    null| null|\n",
      "| stddev|378.0200611960517|0.43949364010802755|0.8378360189701275|                null|  null|14.413493211267733|1.0416583905961019|0.8655602753495152|442685.31767656433|51.75866881037215| null|    null| null|\n",
      "|    min|                1|                  0|                 1|\"Andersson, Mr. A...|female|              0.17|                 0|                 0|            110152|              0.0|     |        | test|\n",
      "|    max|             1309|                  1|                 3|van Melkebeke, Mr...|  male|              80.0|                 8|                 9|         WE/P 5735|         512.3292|    T|       S|train|\n",
      "+-------+-----------------+-------------------+------------------+--------------------+------+------------------+------------------+------------------+------------------+-----------------+-----+--------+-----+\n",
      "\n"
     ]
    }
   ],
   "source": [
    "df.describe(trainDF.columns).show()"
   ]
  },
  {
   "cell_type": "code",
   "execution_count": 19,
   "metadata": {
    "collapsed": false
   },
   "outputs": [
    {
     "name": "stdout",
     "output_type": "stream",
     "text": [
      "+-------+-------------------+------------------+--------------------+\n",
      "|summary|           Survived|            Pclass|                Name|\n",
      "+-------+-------------------+------------------+--------------------+\n",
      "|  count|               1309|              1309|                1309|\n",
      "|   mean| 0.2612681436210848| 2.294881588999236|                null|\n",
      "| stddev|0.43949364010802755|0.8378360189701275|                null|\n",
      "|    min|                  0|                 1|\"Andersson, Mr. A...|\n",
      "|    max|                  1|                 3|van Melkebeke, Mr...|\n",
      "+-------+-------------------+------------------+--------------------+\n",
      "\n"
     ]
    }
   ],
   "source": [
    "df.describe(trainDF.columns[1:4]).show()"
   ]
  },
  {
   "cell_type": "code",
   "execution_count": 20,
   "metadata": {
    "collapsed": false
   },
   "outputs": [
    {
     "name": "stdout",
     "output_type": "stream",
     "text": [
      "+-------+------------------+------------------+------------------+\n",
      "|summary|               Age|             SibSp|             Parch|\n",
      "+-------+------------------+------------------+------------------+\n",
      "|  count|              1046|              1309|              1309|\n",
      "|   mean|29.881137667305726|0.4988540870893812|0.3850267379679144|\n",
      "| stddev|14.413493211267733|1.0416583905961019|0.8655602753495152|\n",
      "|    min|              0.17|                 0|                 0|\n",
      "|    max|              80.0|                 8|                 9|\n",
      "+-------+------------------+------------------+------------------+\n",
      "\n"
     ]
    }
   ],
   "source": [
    "df.describe(trainDF.columns[5:8]).show()"
   ]
  },
  {
   "cell_type": "code",
   "execution_count": 21,
   "metadata": {
    "collapsed": false
   },
   "outputs": [
    {
     "name": "stdout",
     "output_type": "stream",
     "text": [
      "+-------+-----------------+-----+--------+\n",
      "|summary|             Fare|Cabin|Embarked|\n",
      "+-------+-----------------+-----+--------+\n",
      "|  count|             1308| 1309|    1309|\n",
      "|   mean|33.29547938203228| null|    null|\n",
      "| stddev|51.75866881037215| null|    null|\n",
      "|    min|              0.0|     |        |\n",
      "|    max|         512.3292|    T|       S|\n",
      "+-------+-----------------+-----+--------+\n",
      "\n"
     ]
    }
   ],
   "source": [
    "df.describe(trainDF.columns[9:12]).show()"
   ]
  },
  {
   "cell_type": "code",
   "execution_count": 22,
   "metadata": {
    "collapsed": false
   },
   "outputs": [
    {
     "name": "stdout",
     "output_type": "stream",
     "text": [
      "+----+-----+\n",
      "| age|count|\n",
      "+----+-----+\n",
      "|    |  263|\n",
      "|0.17|    1|\n",
      "|0.33|    1|\n",
      "|0.42|    1|\n",
      "|0.67|    1|\n",
      "|0.75|    3|\n",
      "|0.83|    3|\n",
      "|0.92|    2|\n",
      "|   1|   10|\n",
      "|  10|    4|\n",
      "|  11|    4|\n",
      "|11.5|    1|\n",
      "|  12|    3|\n",
      "|  13|    5|\n",
      "|  14|    8|\n",
      "|14.5|    2|\n",
      "|  15|    6|\n",
      "|  16|   19|\n",
      "|  17|   20|\n",
      "|  18|   39|\n",
      "|18.5|    3|\n",
      "|  19|   29|\n",
      "|   2|   12|\n",
      "|  20|   23|\n",
      "|20.5|    1|\n",
      "|  21|   41|\n",
      "|  22|   43|\n",
      "|22.5|    1|\n",
      "|  23|   26|\n",
      "|23.5|    1|\n",
      "|  24|   47|\n",
      "|24.5|    1|\n",
      "|  25|   34|\n",
      "|  26|   30|\n",
      "|26.5|    1|\n",
      "|  27|   30|\n",
      "|  28|   32|\n",
      "|28.5|    3|\n",
      "|  29|   30|\n",
      "|   3|    7|\n",
      "|  30|   40|\n",
      "|30.5|    2|\n",
      "|  31|   23|\n",
      "|  32|   24|\n",
      "|32.5|    4|\n",
      "|  33|   21|\n",
      "|  34|   16|\n",
      "|34.5|    2|\n",
      "|  35|   23|\n",
      "|  36|   31|\n",
      "|36.5|    2|\n",
      "|  37|    9|\n",
      "|  38|   14|\n",
      "|38.5|    1|\n",
      "|  39|   20|\n",
      "|   4|   10|\n",
      "|  40|   18|\n",
      "|40.5|    3|\n",
      "|  41|   11|\n",
      "|  42|   18|\n",
      "|  43|    9|\n",
      "|  44|   10|\n",
      "|  45|   21|\n",
      "|45.5|    2|\n",
      "|  46|    6|\n",
      "|  47|   14|\n",
      "|  48|   14|\n",
      "|  49|    9|\n",
      "|   5|    5|\n",
      "|  50|   15|\n",
      "|  51|    8|\n",
      "|  52|    6|\n",
      "|  53|    4|\n",
      "|  54|   10|\n",
      "|  55|    8|\n",
      "|55.5|    1|\n",
      "|  56|    4|\n",
      "|  57|    5|\n",
      "|  58|    6|\n",
      "|  59|    3|\n",
      "|   6|    6|\n",
      "|  60|    7|\n",
      "|60.5|    1|\n",
      "|  61|    5|\n",
      "|  62|    5|\n",
      "|  63|    4|\n",
      "|  64|    5|\n",
      "|  65|    3|\n",
      "|  66|    1|\n",
      "|  67|    1|\n",
      "|   7|    4|\n",
      "|  70|    2|\n",
      "|70.5|    1|\n",
      "|  71|    2|\n",
      "|  74|    1|\n",
      "|  76|    1|\n",
      "|   8|    6|\n",
      "|  80|    1|\n",
      "|   9|   10|\n",
      "+----+-----+\n",
      "\n"
     ]
    }
   ],
   "source": [
    "age_hist = spark.sql(\n",
    "    \"SELECT Age AS age, \\\n",
    "            count(*) AS count \\\n",
    "    FROM train \\\n",
    "    GROUP BY Age \\\n",
    "    ORDER BY Age\")\n",
    "age_hist.show(n=age_hist.count())"
   ]
  },
  {
   "cell_type": "code",
   "execution_count": 23,
   "metadata": {
    "collapsed": false
   },
   "outputs": [
    {
     "name": "stdout",
     "output_type": "stream",
     "text": [
      "+------------+-----------+-----+\n",
      "|bucket_floor|bucket_name|count|\n",
      "+------------+-----------+-----+\n",
      "|        null|       null|  263|\n",
      "|           0|     0 to 5|   51|\n",
      "|           5|    5 to 10|   31|\n",
      "|          10|   10 to 15|   27|\n",
      "|          15|   15 to 20|  116|\n",
      "|          20|   20 to 25|  184|\n",
      "|          25|   25 to 30|  160|\n",
      "|          30|   30 to 35|  132|\n",
      "|          35|   35 to 40|  100|\n",
      "|          40|   40 to 45|   69|\n",
      "|          45|   45 to 50|   66|\n",
      "|          50|   50 to 55|   43|\n",
      "|          55|   55 to 60|   27|\n",
      "|          60|   60 to 65|   27|\n",
      "|          65|   65 to 70|    5|\n",
      "|          70|   70 to 75|    6|\n",
      "|          75|   75 to 80|    1|\n",
      "|          80|   80 to 85|    1|\n",
      "+------------+-----------+-----+\n",
      "\n"
     ]
    }
   ],
   "source": [
    "age_hist = spark.sql(\n",
    "    \"SELECT bucket_floor, \\\n",
    "        CONCAT(bucket_floor, ' to ', bucket_ceiling) as bucket_name, \\\n",
    "        count(*) as count \\\n",
    "     FROM ( \\\n",
    "        SELECT floor(Age/5.00)*5 as bucket_floor, \\\n",
    "            floor(Age/5.00)*5 + 5 as bucket_ceiling \\\n",
    "        FROM train \\\n",
    "     ) a \\\n",
    "     GROUP BY 1, 2 \\\n",
    "     ORDER BY 1\")\n",
    "\n",
    "age_hist.show(n=age_hist.count())\n"
   ]
  },
  {
   "cell_type": "code",
   "execution_count": 24,
   "metadata": {
    "collapsed": true
   },
   "outputs": [],
   "source": [
    "def get_column(df, colname):\n",
    "    coldata = df.rdd.map(lambda r: r[colname]).collect()\n",
    "    coldata = ['None' if v is None else v for v in coldata] #replace None values\n",
    "    return(coldata)\n",
    "\n",
    "age = get_column(age_hist, \"bucket_name\")\n",
    "count = get_column(age_hist, \"count\")"
   ]
  },
  {
   "cell_type": "code",
   "execution_count": 27,
   "metadata": {
    "collapsed": false
   },
   "outputs": [
    {
     "data": {
      "image/png": "[encoded data removed]",
      "text/plain": [
       "<matplotlib.figure.Figure at 0x7f5882db3890>"
      ]
     },
     "metadata": {},
     "output_type": "display_data"
    }
   ],
   "source": [
    "%matplotlib inline\n",
    "\n",
    "barplt = sns.barplot(age, count)"
   ]
  },
  {
   "cell_type": "code",
   "execution_count": 26,
   "metadata": {
    "collapsed": false
   },
   "outputs": [
    {
     "data": {
      "image/png": "[encoded data removed]",
      "text/plain": [
       "<matplotlib.figure.Figure at 0x7fe8c2614050>"
      ]
     },
     "metadata": {},
     "output_type": "display_data"
    }
   ],
   "source": [
    "%matplotlib inline\n",
    "\n",
    "barplt = sns.barplot(age, count)\n",
    "for item in barplt.get_xticklabels():\n",
    "    item.set_rotation(45)"
   ]
  },
  {
   "cell_type": "code",
   "execution_count": 27,
   "metadata": {
    "collapsed": false
   },
   "outputs": [],
   "source": [
    "def get_column(df, colname):\n",
    "    coldata = df.rdd.map(lambda r: r[colname]).collect()\n",
    "    coldata = ['None' if v is None else v for v in coldata] #replace None values\n",
    "    return(coldata)\n",
    "\n",
    "def histplot(dfname, colname, binsize):\n",
    "    binsize = str(binsize)\n",
    "    dfname.createOrReplaceTempView(\"tmpDF\")\n",
    "    hist_query = \"SELECT bucket_floor, \\\n",
    "        CONCAT(bucket_floor, ' to ', bucket_ceiling) as bucket_name, \\\n",
    "        count(*) as count \\\n",
    "     FROM ( \\\n",
    "        SELECT floor(\" + colname + \"/\" + binsize + \")*\" + binsize + \" as bucket_floor, \\\n",
    "            floor(\" + colname + \"/\" + binsize + \")*\" + binsize + \" + \" + binsize + \" as bucket_ceiling \\\n",
    "        FROM tmpDF \\\n",
    "     ) a \\\n",
    "     GROUP BY 1, 2 \\\n",
    "     ORDER BY 1\"\n",
    "    hist_data = spark.sql(hist_query)\n",
    "    xvar = get_column(hist_data, \"bucket_name\")\n",
    "    count = get_column(hist_data, \"count\")\n",
    "    barplt = sns.barplot(xvar, count)\n",
    "    for item in barplt.get_xticklabels():\n",
    "        item.set_rotation(45)\n",
    "    return(barplt)"
   ]
  },
  {
   "cell_type": "code",
   "execution_count": 30,
   "metadata": {
    "collapsed": false
   },
   "outputs": [
    {
     "data": {
      "text/plain": [
       "<matplotlib.axes._subplots.AxesSubplot at 0x7f58818acc10>"
      ]
     },
     "execution_count": 30,
     "metadata": {},
     "output_type": "execute_result"
    },
    {
     "data": {
      "image/png": "[encoded data removed]",
      "text/plain": [
       "<matplotlib.figure.Figure at 0x7f5881991710>"
      ]
     },
     "metadata": {},
     "output_type": "display_data"
    }
   ],
   "source": [
    "histplot(df, \"Age\", 5)"
   ]
  },
  {
   "cell_type": "code",
   "execution_count": 31,
   "metadata": {
    "collapsed": false
   },
   "outputs": [
    {
     "data": {
      "text/plain": [
       "<matplotlib.axes._subplots.AxesSubplot at 0x7f5881f332d0>"
      ]
     },
     "execution_count": 31,
     "metadata": {},
     "output_type": "execute_result"
    },
    {
     "data": {
      "image/png": "[encoded data removed]",
      "text/plain": [
       "<matplotlib.figure.Figure at 0x7f588183ce90>"
      ]
     },
     "metadata": {},
     "output_type": "display_data"
    }
   ],
   "source": [
    "histplot(df, \"Age\", 10)"
   ]
  },
  {
   "cell_type": "code",
   "execution_count": 32,
   "metadata": {
    "collapsed": false
   },
   "outputs": [
    {
     "name": "stdout",
     "output_type": "stream",
     "text": [
      "root\n",
      " |-- Name: string (nullable = true)\n",
      " |-- Sex: string (nullable = true)\n",
      " |-- Ticket: string (nullable = true)\n",
      " |-- Cabin: string (nullable = true)\n",
      " |-- Embarked: string (nullable = true)\n",
      " |-- Mark: string (nullable = false)\n",
      " |-- PassengerId: integer (nullable = true)\n",
      " |-- Pclass: integer (nullable = true)\n",
      " |-- SibSp: integer (nullable = true)\n",
      " |-- Parch: integer (nullable = true)\n",
      " |-- Survived: integer (nullable = true)\n",
      " |-- Age: float (nullable = true)\n",
      " |-- Fare: float (nullable = true)\n",
      "\n"
     ]
    }
   ],
   "source": [
    "df.printSchema()"
   ]
  },
  {
   "cell_type": "code",
   "execution_count": 33,
   "metadata": {
    "collapsed": false
   },
   "outputs": [
    {
     "data": {
      "text/plain": [
       "<matplotlib.axes._subplots.AxesSubplot at 0x7f5881f81b50>"
      ]
     },
     "execution_count": 33,
     "metadata": {},
     "output_type": "execute_result"
    },
    {
     "data": {
      "image/png": "[encoded data removed]",
      "text/plain": [
       "<matplotlib.figure.Figure at 0x7f5881a56710>"
      ]
     },
     "metadata": {},
     "output_type": "display_data"
    }
   ],
   "source": [
    "histplot(df, \"Age\", 5)"
   ]
  },
  {
   "cell_type": "code",
   "execution_count": 36,
   "metadata": {
    "collapsed": false
   },
   "outputs": [
    {
     "data": {
      "text/plain": [
       "<matplotlib.axes._subplots.AxesSubplot at 0x11542e0f0>"
      ]
     },
     "execution_count": 36,
     "metadata": {},
     "output_type": "execute_result"
    },
    {
     "data": {
      "image/png": "[encoded data removed]",
      "text/plain": [
       "<matplotlib.figure.Figure at 0x117c24c50>"
      ]
     },
     "metadata": {},
     "output_type": "display_data"
    }
   ],
   "source": [
    "histplot(df, \"Survived\", 5)"
   ]
  },
  {
   "cell_type": "code",
   "execution_count": 34,
   "metadata": {
    "collapsed": false
   },
   "outputs": [
    {
     "data": {
      "text/plain": [
       "<matplotlib.axes._subplots.AxesSubplot at 0x7f5881f89710>"
      ]
     },
     "execution_count": 34,
     "metadata": {},
     "output_type": "execute_result"
    },
    {
     "data": {
      "image/png": "[encoded data removed]",
      "text/plain": [
       "<matplotlib.figure.Figure at 0x7f58815b7510>"
      ]
     },
     "metadata": {},
     "output_type": "display_data"
    }
   ],
   "source": [
    "histplot(df, \"Survived\", 1)"
   ]
  },
  {
   "cell_type": "code",
   "execution_count": 35,
   "metadata": {
    "collapsed": false
   },
   "outputs": [
    {
     "data": {
      "text/plain": [
       "<matplotlib.axes._subplots.AxesSubplot at 0x7f5881f89550>"
      ]
     },
     "execution_count": 35,
     "metadata": {},
     "output_type": "execute_result"
    },
    {
     "data": {
      "image/png": "[encoded data removed]",
      "text/plain": [
       "<matplotlib.figure.Figure at 0x7f58816f8b10>"
      ]
     },
     "metadata": {},
     "output_type": "display_data"
    }
   ],
   "source": [
    "histplot(df, \"Pclass\", 1)"
   ]
  },
  {
   "cell_type": "code",
   "execution_count": 37,
   "metadata": {
    "collapsed": false
   },
   "outputs": [
    {
     "data": {
      "text/plain": [
       "<matplotlib.axes._subplots.AxesSubplot at 0x7f58813bbad0>"
      ]
     },
     "execution_count": 37,
     "metadata": {},
     "output_type": "execute_result"
    },
    {
     "data": {
      "image/png": "[encoded data removed]",
      "text/plain": [
       "<matplotlib.figure.Figure at 0x7f5881366c90>"
      ]
     },
     "metadata": {},
     "output_type": "display_data"
    }
   ],
   "source": [
    "histplot(df, \"SibSp\", 1)"
   ]
  },
  {
   "cell_type": "code",
   "execution_count": 38,
   "metadata": {
    "collapsed": false
   },
   "outputs": [
    {
     "data": {
      "text/plain": [
       "<matplotlib.axes._subplots.AxesSubplot at 0x7f58812d5c50>"
      ]
     },
     "execution_count": 38,
     "metadata": {},
     "output_type": "execute_result"
    },
    {
     "data": {
      "image/png": "[encoded data removed]",
      "text/plain": [
       "<matplotlib.figure.Figure at 0x7f58811c0ed0>"
      ]
     },
     "metadata": {},
     "output_type": "display_data"
    }
   ],
   "source": [
    "histplot(df, \"Parch\", 1)"
   ]
  },
  {
   "cell_type": "code",
   "execution_count": 39,
   "metadata": {
    "collapsed": false
   },
   "outputs": [
    {
     "data": {
      "text/plain": [
       "<matplotlib.axes._subplots.AxesSubplot at 0x7f5881fb3790>"
      ]
     },
     "execution_count": 39,
     "metadata": {},
     "output_type": "execute_result"
    },
    {
     "data": {
      "image/png": "[encoded data removed]",
      "text/plain": [
       "<matplotlib.figure.Figure at 0x7f5881170790>"
      ]
     },
     "metadata": {},
     "output_type": "display_data"
    }
   ],
   "source": [
    "histplot(df, \"Age\", 5)"
   ]
  },
  {
   "cell_type": "code",
   "execution_count": 40,
   "metadata": {
    "collapsed": false
   },
   "outputs": [
    {
     "data": {
      "text/plain": [
       "<matplotlib.axes._subplots.AxesSubplot at 0x7f58810caa10>"
      ]
     },
     "execution_count": 40,
     "metadata": {},
     "output_type": "execute_result"
    },
    {
     "data": {
      "image/png": "[encoded data removed]",
      "text/plain": [
       "<matplotlib.figure.Figure at 0x7f58812e1650>"
      ]
     },
     "metadata": {},
     "output_type": "display_data"
    }
   ],
   "source": [
    "histplot(df, \"Fare\", 5)"
   ]
  },
  {
   "cell_type": "code",
   "execution_count": 41,
   "metadata": {
    "collapsed": false
   },
   "outputs": [
    {
     "data": {
      "text/plain": [
       "<matplotlib.axes._subplots.AxesSubplot at 0x7f5880cd9650>"
      ]
     },
     "execution_count": 41,
     "metadata": {},
     "output_type": "execute_result"
    },
    {
     "data": {
      "image/png": "[encoded data removed]",
      "text/plain": [
       "<matplotlib.figure.Figure at 0x7f5880c8f090>"
      ]
     },
     "metadata": {},
     "output_type": "display_data"
    }
   ],
   "source": [
    "histplot(df, \"Fare\", 10)"
   ]
  },
  {
   "cell_type": "code",
   "execution_count": 28,
   "metadata": {
    "collapsed": false
   },
   "outputs": [
    {
     "data": {
      "text/plain": [
       "<matplotlib.axes._subplots.AxesSubplot at 0x7fe8bb866c10>"
      ]
     },
     "execution_count": 28,
     "metadata": {},
     "output_type": "execute_result"
    },
    {
     "data": {
      "image/png": "[encoded data removed]",
      "text/plain": [
       "<matplotlib.figure.Figure at 0x7fe8bb948b90>"
      ]
     },
     "metadata": {},
     "output_type": "display_data"
    }
   ],
   "source": [
    "histplot(trainDF, \"Embarked\", 1)"
   ]
  },
  {
   "cell_type": "code",
   "execution_count": 29,
   "metadata": {
    "collapsed": true
   },
   "outputs": [],
   "source": [
    "def histplot_s(df, colname):\n",
    "    xvar = get_column(df, colname)\n",
    "    counter = collections.Counter(xvar)\n",
    "    barplt = sns.barplot(list(counter.keys()), list(counter.values()))\n",
    "    for item in barplt.get_xticklabels():\n",
    "        item.set_rotation(45)\n",
    "    return(barplt)"
   ]
  },
  {
   "cell_type": "code",
   "execution_count": 30,
   "metadata": {
    "collapsed": false
   },
   "outputs": [
    {
     "data": {
      "text/plain": [
       "<matplotlib.axes._subplots.AxesSubplot at 0x7fe8bb948510>"
      ]
     },
     "execution_count": 30,
     "metadata": {},
     "output_type": "execute_result"
    },
    {
     "data": {
      "image/png": "[encoded data removed]",
      "text/plain": [
       "<matplotlib.figure.Figure at 0x7fe8bb786c10>"
      ]
     },
     "metadata": {},
     "output_type": "display_data"
    }
   ],
   "source": [
    "histplot_s(df, \"Sex\")"
   ]
  },
  {
   "cell_type": "code",
   "execution_count": 31,
   "metadata": {
    "collapsed": false
   },
   "outputs": [
    {
     "data": {
      "text/plain": [
       "<matplotlib.axes._subplots.AxesSubplot at 0x7fe8bbef7b50>"
      ]
     },
     "execution_count": 31,
     "metadata": {},
     "output_type": "execute_result"
    },
    {
     "data": {
      "image/png": "[encoded data removed]",
      "text/plain": [
       "<matplotlib.figure.Figure at 0x7fe8bba07c90>"
      ]
     },
     "metadata": {},
     "output_type": "display_data"
    }
   ],
   "source": [
    "histplot_s(df, \"Embarked\")"
   ]
  },
  {
   "cell_type": "markdown",
   "metadata": {},
   "source": [
    "#### Correlations"
   ]
  },
  {
   "cell_type": "code",
   "execution_count": 32,
   "metadata": {
    "collapsed": false
   },
   "outputs": [
    {
     "data": {
      "text/plain": [
       "0.21349686667435705"
      ]
     },
     "execution_count": 32,
     "metadata": {},
     "output_type": "execute_result"
    }
   ],
   "source": [
    "df.corr(\"Age\", \"Fare\")"
   ]
  },
  {
   "cell_type": "code",
   "execution_count": 33,
   "metadata": {
    "collapsed": false
   },
   "outputs": [
    {
     "data": {
      "text/plain": [
       "0.005296468730662016"
      ]
     },
     "execution_count": 33,
     "metadata": {},
     "output_type": "execute_result"
    }
   ],
   "source": [
    "df.corr(\"Age\", \"Survived\")"
   ]
  },
  {
   "cell_type": "code",
   "execution_count": 34,
   "metadata": {
    "collapsed": false
   },
   "outputs": [
    {
     "data": {
      "text/plain": [
       "0.1738945206553876"
      ]
     },
     "execution_count": 34,
     "metadata": {},
     "output_type": "execute_result"
    }
   ],
   "source": [
    "df.corr(\"Fare\", \"Survived\")"
   ]
  },
  {
   "cell_type": "code",
   "execution_count": 45,
   "metadata": {
    "collapsed": false
   },
   "outputs": [],
   "source": [
    "numVars = ['Survived','Age','SibSp','Parch']\n",
    "stringVars = ['Cabin', 'Embarked', 'Pclass', 'Sex']\n",
    "\n",
    "def countNull(df,var):\n",
    "    return df.where(df[var].isNull()).count()\n",
    "\n",
    "def countEmptyString(df,var):\n",
    "    return df[df[var].isin(\"\")].count()\n",
    "\n",
    "def countZero(df,var):\n",
    "    return df[df[var].isin(0)].count()"
   ]
  },
  {
   "cell_type": "code",
   "execution_count": 50,
   "metadata": {
    "collapsed": false
   },
   "outputs": [
    {
     "data": {
      "text/plain": [
       "{'Age': 263,\n",
       " 'Cabin': 0,\n",
       " 'Embarked': 0,\n",
       " 'Fare': 1,\n",
       " 'Mark': 0,\n",
       " 'Name': 0,\n",
       " 'Parch': 0,\n",
       " 'PassengerId': 0,\n",
       " 'Pclass': 0,\n",
       " 'Sex': 0,\n",
       " 'SibSp': 0,\n",
       " 'Survived': 0,\n",
       " 'Ticket': 0}"
      ]
     },
     "execution_count": 50,
     "metadata": {},
     "output_type": "execute_result"
    }
   ],
   "source": [
    "missing = {var: countNull(df,var) for var in df.columns}\n",
    "missing"
   ]
  },
  {
   "cell_type": "code",
   "execution_count": 51,
   "metadata": {
    "collapsed": false
   },
   "outputs": [
    {
     "data": {
      "text/plain": [
       "{'Age': 0,\n",
       " 'Cabin': 1014,\n",
       " 'Embarked': 2,\n",
       " 'Fare': 0,\n",
       " 'Mark': 0,\n",
       " 'Name': 0,\n",
       " 'Parch': 0,\n",
       " 'PassengerId': 0,\n",
       " 'Pclass': 0,\n",
       " 'Sex': 0,\n",
       " 'SibSp': 0,\n",
       " 'Survived': 0,\n",
       " 'Ticket': 0}"
      ]
     },
     "execution_count": 51,
     "metadata": {},
     "output_type": "execute_result"
    }
   ],
   "source": [
    "missing = {var: countEmptyString(df, var) for var in df.columns}\n",
    "missing"
   ]
  },
  {
   "cell_type": "code",
   "execution_count": 54,
   "metadata": {
    "collapsed": false
   },
   "outputs": [
    {
     "data": {
      "text/plain": [
       "{'Age': 0,\n",
       " 'Cabin': 0,\n",
       " 'Embarked': 0,\n",
       " 'Fare': 17,\n",
       " 'Mark': 0,\n",
       " 'Name': 0,\n",
       " 'Parch': 1002,\n",
       " 'PassengerId': 0,\n",
       " 'Pclass': 0,\n",
       " 'Sex': 0,\n",
       " 'SibSp': 891,\n",
       " 'Survived': 967,\n",
       " 'Ticket': 0}"
      ]
     },
     "execution_count": 54,
     "metadata": {},
     "output_type": "execute_result"
    }
   ],
   "source": [
    "missing = {var: countZero(df, var) for var in df.columns}\n",
    "missing"
   ]
  },
  {
   "cell_type": "code",
   "execution_count": 52,
   "metadata": {
    "collapsed": false
   },
   "outputs": [
    {
     "data": {
      "text/plain": [
       "Row(avg(Age)=29.881137667305726)"
      ]
     },
     "execution_count": 52,
     "metadata": {},
     "output_type": "execute_result"
    }
   ],
   "source": [
    "age_mean = df.groupBy().mean('Age').first()\n",
    "age_mean"
   ]
  },
  {
   "cell_type": "code",
   "execution_count": 53,
   "metadata": {
    "collapsed": false
   },
   "outputs": [
    {
     "data": {
      "text/plain": [
       "29.881137667305726"
      ]
     },
     "execution_count": 53,
     "metadata": {},
     "output_type": "execute_result"
    }
   ],
   "source": [
    "age_mean[0]"
   ]
  },
  {
   "cell_type": "code",
   "execution_count": 203,
   "metadata": {
    "collapsed": false
   },
   "outputs": [
    {
     "data": {
      "text/plain": [
       "(29.881137703590216, 33.295479381603535)"
      ]
     },
     "execution_count": 203,
     "metadata": {},
     "output_type": "execute_result"
    }
   ],
   "source": [
    "age_mean = df.groupBy().mean('Age').first()[0]\n",
    "fare_mean = df.groupBy().mean('Fare').first()[0]\n",
    "age_mean, fare_mean"
   ]
  },
  {
   "cell_type": "code",
   "execution_count": 46,
   "metadata": {
    "collapsed": false
   },
   "outputs": [
    {
     "name": "stdout",
     "output_type": "stream",
     "text": [
      "+--------------------+---------------+\n",
      "|                Name|          Title|\n",
      "+--------------------+---------------+\n",
      "|Braund, Mr. Owen ...|     Braund, Mr|\n",
      "|Cumings, Mrs. Joh...|   Cumings, Mrs|\n",
      "|Heikkinen, Miss. ...|Heikkinen, Miss|\n",
      "|Futrelle, Mrs. Ja...|  Futrelle, Mrs|\n",
      "|Allen, Mr. Willia...|      Allen, Mr|\n",
      "+--------------------+---------------+\n",
      "only showing top 5 rows\n",
      "\n"
     ]
    }
   ],
   "source": [
    "from pyspark.sql.functions import udf\n",
    "from pyspark.sql.types import StringType\n",
    " \n",
    "## create user defined function to extract title\n",
    "getTitle = udf(lambda name: name.split('.')[0].strip(), StringType())\n",
    "df = df.withColumn('Title', getTitle(df['Name']))\n",
    " \n",
    "df.select('Name','Title').show(5)"
   ]
  },
  {
   "cell_type": "code",
   "execution_count": 47,
   "metadata": {
    "collapsed": false
   },
   "outputs": [
    {
     "name": "stdout",
     "output_type": "stream",
     "text": [
      "+--------------------+-----+\n",
      "|                Name|Title|\n",
      "+--------------------+-----+\n",
      "|Braund, Mr. Owen ...|   Mr|\n",
      "|Cumings, Mrs. Joh...|  Mrs|\n",
      "|Heikkinen, Miss. ...| Miss|\n",
      "|Futrelle, Mrs. Ja...|  Mrs|\n",
      "|Allen, Mr. Willia...|   Mr|\n",
      "+--------------------+-----+\n",
      "only showing top 5 rows\n",
      "\n"
     ]
    }
   ],
   "source": [
    "getTitle = udf(lambda name: name.split('.')[0].split(',')[1].strip(), StringType())\n",
    "df = df.withColumn('Title', getTitle(df['Name']))\n",
    " \n",
    "df.select('Name','Title').show(5)"
   ]
  },
  {
   "cell_type": "code",
   "execution_count": 48,
   "metadata": {
    "collapsed": true
   },
   "outputs": [],
   "source": [
    "catVars = ['Pclass','Sex','Embarked','Title']\n",
    " \n",
    "## index Sex variable\n",
    "si = StringIndexer(inputCol = 'Sex', outputCol = 'Sex_indexed')\n",
    "df_indexed = si.fit(df).transform(df).drop('Sex').withColumnRenamed('Sex_indexed','Sex')"
   ]
  },
  {
   "cell_type": "code",
   "execution_count": 49,
   "metadata": {
    "collapsed": false
   },
   "outputs": [
    {
     "name": "stdout",
     "output_type": "stream",
     "text": [
      "+--------------------+----------------+-----+--------+-----+-----------+------+-----+-----+--------+----+-------+-----+---+\n",
      "|                Name|          Ticket|Cabin|Embarked| Mark|PassengerId|Pclass|SibSp|Parch|Survived| Age|   Fare|Title|Sex|\n",
      "+--------------------+----------------+-----+--------+-----+-----------+------+-----+-----+--------+----+-------+-----+---+\n",
      "|Braund, Mr. Owen ...|       A/5 21171|     |       S|train|          1|     3|    1|    0|       0|22.0|   7.25|   Mr|0.0|\n",
      "|Cumings, Mrs. Joh...|        PC 17599|  C85|       C|train|          2|     1|    1|    0|       1|38.0|71.2833|  Mrs|1.0|\n",
      "|Heikkinen, Miss. ...|STON/O2. 3101282|     |       S|train|          3|     3|    0|    0|       1|26.0|  7.925| Miss|1.0|\n",
      "|Futrelle, Mrs. Ja...|          113803| C123|       S|train|          4|     1|    1|    0|       1|35.0|   53.1|  Mrs|1.0|\n",
      "|Allen, Mr. Willia...|          373450|     |       S|train|          5|     3|    0|    0|       0|35.0|   8.05|   Mr|0.0|\n",
      "+--------------------+----------------+-----+--------+-----+-----------+------+-----+-----+--------+----+-------+-----+---+\n",
      "only showing top 5 rows\n",
      "\n"
     ]
    }
   ],
   "source": [
    "df_indexed.show(5)"
   ]
  },
  {
   "cell_type": "code",
   "execution_count": 50,
   "metadata": {
    "collapsed": true
   },
   "outputs": [],
   "source": [
    "# make use of pipeline to index all categorical variables\n",
    "def indexer(df, col):\n",
    "    si = StringIndexer(inputCol = col, outputCol = col+'_indexed').fit(df)\n",
    "    return si\n",
    " \n",
    "indexers = [indexer(df, col) for col in catVars]"
   ]
  },
  {
   "cell_type": "code",
   "execution_count": 51,
   "metadata": {
    "collapsed": false
   },
   "outputs": [
    {
     "name": "stdout",
     "output_type": "stream",
     "text": [
      "+--------+----------------+\n",
      "|Embarked|Embarked_indexed|\n",
      "+--------+----------------+\n",
      "|       S|             0.0|\n",
      "|       C|             1.0|\n",
      "|       S|             0.0|\n",
      "+--------+----------------+\n",
      "only showing top 3 rows\n",
      "\n"
     ]
    }
   ],
   "source": [
    "pipeline = Pipeline(stages = indexers)\n",
    "df_indexed = pipeline.fit(df).transform(df)\n",
    " \n",
    "df_indexed.select('Embarked','Embarked_indexed').show(3)"
   ]
  },
  {
   "cell_type": "code",
   "execution_count": 52,
   "metadata": {
    "collapsed": true
   },
   "outputs": [],
   "source": [
    "from pyspark.sql import Row\n",
    "from pyspark.ml.linalg import DenseVector"
   ]
  },
  {
   "cell_type": "code",
   "execution_count": 53,
   "metadata": {
    "collapsed": false
   },
   "outputs": [
    {
     "data": {
      "text/plain": [
       "['Pclass_indexed', 'Sex_indexed', 'Embarked_indexed', 'Title_indexed']"
      ]
     },
     "execution_count": 53,
     "metadata": {},
     "output_type": "execute_result"
    }
   ],
   "source": [
    "catVarsIndexed = [i + '_indexed' for i in catVars]\n",
    "catVarsIndexed"
   ]
  },
  {
   "cell_type": "code",
   "execution_count": 54,
   "metadata": {
    "collapsed": false
   },
   "outputs": [
    {
     "data": {
      "text/plain": [
       "['Survived',\n",
       " 'Age',\n",
       " 'SibSp',\n",
       " 'Parch',\n",
       " 'Pclass_indexed',\n",
       " 'Sex_indexed',\n",
       " 'Embarked_indexed',\n",
       " 'Title_indexed']"
      ]
     },
     "execution_count": 54,
     "metadata": {},
     "output_type": "execute_result"
    }
   ],
   "source": [
    "featuresCol = numVars + catVarsIndexed\n",
    "featuresCol"
   ]
  },
  {
   "cell_type": "code",
   "execution_count": 55,
   "metadata": {
    "collapsed": false
   },
   "outputs": [
    {
     "data": {
      "text/plain": [
       "['Age',\n",
       " 'SibSp',\n",
       " 'Parch',\n",
       " 'Pclass_indexed',\n",
       " 'Sex_indexed',\n",
       " 'Embarked_indexed',\n",
       " 'Title_indexed']"
      ]
     },
     "execution_count": 55,
     "metadata": {},
     "output_type": "execute_result"
    }
   ],
   "source": [
    "featuresCol.remove('Survived')\n",
    "featuresCol"
   ]
  },
  {
   "cell_type": "code",
   "execution_count": 56,
   "metadata": {
    "collapsed": false
   },
   "outputs": [
    {
     "data": {
      "text/plain": [
       "['Mark', 'Survived']"
      ]
     },
     "execution_count": 56,
     "metadata": {},
     "output_type": "execute_result"
    }
   ],
   "source": [
    "labelCol = ['Mark','Survived']\n",
    "labelCol"
   ]
  },
  {
   "cell_type": "code",
   "execution_count": 57,
   "metadata": {
    "collapsed": false
   },
   "outputs": [
    {
     "data": {
      "text/plain": [
       "<Row(mark, label, features)>"
      ]
     },
     "execution_count": 57,
     "metadata": {},
     "output_type": "execute_result"
    }
   ],
   "source": [
    "row = Row('mark','label','features') \n",
    "row"
   ]
  },
  {
   "cell_type": "code",
   "execution_count": 58,
   "metadata": {
    "collapsed": false
   },
   "outputs": [
    {
     "data": {
      "text/plain": [
       "DataFrame[Mark: string, Survived: int, Age: float, SibSp: int, Parch: int, Pclass_indexed: double, Sex_indexed: double, Embarked_indexed: double, Title_indexed: double]"
      ]
     },
     "execution_count": 58,
     "metadata": {},
     "output_type": "execute_result"
    }
   ],
   "source": [
    "df_indexed = df_indexed[labelCol + featuresCol]\n",
    "df_indexed"
   ]
  },
  {
   "cell_type": "code",
   "execution_count": 59,
   "metadata": {
    "collapsed": false
   },
   "outputs": [
    {
     "name": "stdout",
     "output_type": "stream",
     "text": [
      "+-----+-----+--------------------+\n",
      "| mark|label|            features|\n",
      "+-----+-----+--------------------+\n",
      "|train|    0|[22.0,1.0,0.0,0.0...|\n",
      "|train|    1|[38.0,1.0,0.0,1.0...|\n",
      "|train|    1|[26.0,0.0,0.0,0.0...|\n",
      "|train|    1|[35.0,1.0,0.0,1.0...|\n",
      "|train|    0|[35.0,0.0,0.0,0.0...|\n",
      "|train|    0|[NaN,0.0,0.0,0.0,...|\n",
      "|train|    0|[54.0,0.0,0.0,1.0...|\n",
      "|train|    0|[2.0,3.0,1.0,0.0,...|\n",
      "|train|    1|[27.0,0.0,2.0,0.0...|\n",
      "|train|    1|[14.0,1.0,0.0,2.0...|\n",
      "|train|    1|[4.0,1.0,1.0,0.0,...|\n",
      "|train|    1|[58.0,0.0,0.0,1.0...|\n",
      "|train|    0|[20.0,0.0,0.0,0.0...|\n",
      "|train|    0|[39.0,1.0,5.0,0.0...|\n",
      "|train|    0|[14.0,0.0,0.0,0.0...|\n",
      "|train|    1|[55.0,0.0,0.0,2.0...|\n",
      "|train|    0|[2.0,4.0,1.0,0.0,...|\n",
      "|train|    1|[NaN,0.0,0.0,2.0,...|\n",
      "|train|    0|[31.0,1.0,0.0,0.0...|\n",
      "|train|    1|[NaN,0.0,0.0,0.0,...|\n",
      "+-----+-----+--------------------+\n",
      "only showing top 20 rows\n",
      "\n"
     ]
    }
   ],
   "source": [
    "# 0-mark, 1-label, 2-features\n",
    "# map features to DenseVector\n",
    "lf = df_indexed.rdd.map(lambda r: (row(r[0], r[1],DenseVector(r[2:])))).toDF()\n",
    "lf.show()"
   ]
  },
  {
   "cell_type": "code",
   "execution_count": 60,
   "metadata": {
    "collapsed": false
   },
   "outputs": [
    {
     "name": "stdout",
     "output_type": "stream",
     "text": [
      "+-----+-----+--------------------+-----+\n",
      "| mark|label|            features|index|\n",
      "+-----+-----+--------------------+-----+\n",
      "|train|    0|[22.0,1.0,0.0,0.0...|  0.0|\n",
      "|train|    1|[38.0,1.0,0.0,1.0...|  1.0|\n",
      "|train|    1|[26.0,0.0,0.0,0.0...|  1.0|\n",
      "+-----+-----+--------------------+-----+\n",
      "only showing top 3 rows\n",
      "\n"
     ]
    }
   ],
   "source": [
    "# index label\n",
    "# convert numeric label to categorical, which is required by\n",
    "# decisionTree and randomForest\n",
    "lf = StringIndexer(inputCol = 'label', outputCol='index').fit(lf).transform(lf)\n",
    " \n",
    "lf.show(3)"
   ]
  },
  {
   "cell_type": "code",
   "execution_count": 61,
   "metadata": {
    "collapsed": true
   },
   "outputs": [],
   "source": [
    "train = lf.where(lf.mark =='train')\n",
    "test = lf.where(lf.mark =='test')"
   ]
  },
  {
   "cell_type": "code",
   "execution_count": 62,
   "metadata": {
    "collapsed": false
   },
   "outputs": [
    {
     "name": "stdout",
     "output_type": "stream",
     "text": [
      "+----+-----+--------------------+-----+\n",
      "|mark|label|            features|index|\n",
      "+----+-----+--------------------+-----+\n",
      "|test|    0|[34.5,0.0,0.0,0.0...|  0.0|\n",
      "|test|    0|[47.0,1.0,0.0,0.0...|  0.0|\n",
      "|test|    0|[62.0,0.0,0.0,2.0...|  0.0|\n",
      "|test|    0|[27.0,0.0,0.0,0.0...|  0.0|\n",
      "|test|    0|[22.0,1.0,1.0,0.0...|  0.0|\n",
      "+----+-----+--------------------+-----+\n",
      "only showing top 5 rows\n",
      "\n"
     ]
    }
   ],
   "source": [
    "test.show(5)"
   ]
  },
  {
   "cell_type": "code",
   "execution_count": 63,
   "metadata": {
    "collapsed": true
   },
   "outputs": [],
   "source": [
    "# random split further to get train/validate\n",
    "train, validate = train.randomSplit([0.7,0.3], seed =121)"
   ]
  },
  {
   "cell_type": "code",
   "execution_count": 64,
   "metadata": {
    "collapsed": false,
    "scrolled": true
   },
   "outputs": [
    {
     "name": "stdout",
     "output_type": "stream",
     "text": [
      "Train Data Number of Row: 637\n",
      "Validate Data Number of Row: 254\n",
      "Test Data Number of Row: 418\n"
     ]
    }
   ],
   "source": [
    "print('Train Data Number of Row: '+ str(train.count()))\n",
    "print('Validate Data Number of Row: '+ str(validate.count()))\n",
    "print('Test Data Number of Row: '+ str(test.count()))"
   ]
  },
  {
   "cell_type": "code",
   "execution_count": 65,
   "metadata": {
    "collapsed": false
   },
   "outputs": [],
   "source": [
    "from pyspark.ml.classification import DecisionTreeClassifier, RandomForestClassifier, GBTClassifier\n",
    " \n",
    "dt = DecisionTreeClassifier(maxDepth = 3, labelCol ='index').fit(train)\n",
    "rf = RandomForestClassifier(numTrees = 100, labelCol = 'index').fit(train)\n",
    "gbt = GBTClassifier(maxIter = 10, labelCol = 'index').fit(train)\n"
   ]
  },
  {
   "cell_type": "code",
   "execution_count": 68,
   "metadata": {
    "collapsed": true
   },
   "outputs": [],
   "source": [
    "model= rf.transform(test)"
   ]
  },
  {
   "cell_type": "code",
   "execution_count": 69,
   "metadata": {
    "collapsed": false
   },
   "outputs": [
    {
     "name": "stdout",
     "output_type": "stream",
     "text": [
      "+----+-----+--------------------+-----+--------------------+--------------------+----------+\n",
      "|mark|label|            features|index|       rawPrediction|         probability|prediction|\n",
      "+----+-----+--------------------+-----+--------------------+--------------------+----------+\n",
      "|test|    0|[34.5,0.0,0.0,0.0...|  0.0|[87.6090372116384...|[0.87609037211638...|       0.0|\n",
      "|test|    0|[47.0,1.0,0.0,0.0...|  0.0|[58.4066940978952...|[0.58406694097895...|       0.0|\n",
      "|test|    0|[62.0,0.0,0.0,2.0...|  0.0|[80.6159933881352...|[0.80615993388135...|       0.0|\n",
      "|test|    0|[27.0,0.0,0.0,0.0...|  0.0|[85.0393325939633...|[0.85039332593963...|       0.0|\n",
      "|test|    0|[22.0,1.0,1.0,0.0...|  0.0|[54.5398759562138...|[0.54539875956213...|       0.0|\n",
      "|test|    0|[14.0,0.0,0.0,0.0...|  0.0|[87.8874269341946...|[0.87887426934194...|       0.0|\n",
      "|test|    0|[30.0,0.0,0.0,0.0...|  0.0|[40.7476585539638...|[0.40747658553963...|       1.0|\n",
      "|test|    0|[26.0,1.0,1.0,2.0...|  0.0|[88.6830072631517...|[0.88683007263151...|       0.0|\n",
      "|test|    0|[18.0,0.0,0.0,0.0...|  0.0|[43.5544057588806...|[0.43554405758880...|       1.0|\n",
      "|test|    0|[21.0,2.0,0.0,0.0...|  0.0|[92.5982393392364...|[0.92598239339236...|       0.0|\n",
      "|test|    0|[NaN,0.0,0.0,0.0,...|  0.0|[89.8461628383241...|[0.89846162838324...|       0.0|\n",
      "|test|    0|[46.0,0.0,0.0,1.0...|  0.0|[70.8858939713141...|[0.70885893971314...|       0.0|\n",
      "|test|    0|[23.0,1.0,0.0,1.0...|  0.0|[4.23951600104036...|[0.04239516001040...|       1.0|\n",
      "|test|    0|[63.0,1.0,0.0,2.0...|  0.0|[87.4439605353305...|[0.87443960535330...|       0.0|\n",
      "|test|    0|[47.0,1.0,0.0,1.0...|  0.0|[4.70396528747130...|[0.04703965287471...|       1.0|\n",
      "|test|    0|[24.0,1.0,0.0,2.0...|  0.0|[8.86214759801813...|[0.08862147598018...|       1.0|\n",
      "|test|    0|[35.0,0.0,0.0,2.0...|  0.0|[81.0099806112066...|[0.81009980611206...|       0.0|\n",
      "|test|    0|[21.0,0.0,0.0,0.0...|  0.0|[85.2966759202445...|[0.85296675920244...|       0.0|\n",
      "|test|    0|[27.0,1.0,0.0,0.0...|  0.0|[56.6005594691779...|[0.56600559469177...|       0.0|\n",
      "|test|    0|[45.0,0.0,0.0,0.0...|  0.0|[44.2509334763952...|[0.44250933476395...|       1.0|\n",
      "|test|    0|[55.0,1.0,0.0,1.0...|  0.0|[64.6420446609748...|[0.64642044660974...|       0.0|\n",
      "|test|    0|[9.0,0.0,1.0,0.0,...|  0.0|[39.8697684637229...|[0.39869768463722...|       1.0|\n",
      "|test|    0|[NaN,0.0,0.0,1.0,...|  0.0|[5.59193299928628...|[0.05591932999286...|       1.0|\n",
      "|test|    0|[21.0,0.0,1.0,1.0...|  0.0|[55.4820785924031...|[0.55482078592403...|       0.0|\n",
      "|test|    0|[48.0,1.0,3.0,1.0...|  0.0|[11.3177353685793...|[0.11317735368579...|       1.0|\n",
      "|test|    0|[50.0,1.0,0.0,0.0...|  0.0|[90.7850254906643...|[0.90785025490664...|       0.0|\n",
      "|test|    0|[22.0,0.0,1.0,1.0...|  0.0|[3.19812684070638...|[0.03198126840706...|       1.0|\n",
      "|test|    0|[22.5,0.0,0.0,0.0...|  0.0|[84.4788118064117...|[0.84478811806411...|       0.0|\n",
      "|test|    0|[41.0,0.0,0.0,1.0...|  0.0|[68.9307742452848...|[0.68930774245284...|       0.0|\n",
      "|test|    0|[NaN,2.0,0.0,0.0,...|  0.0|[68.8182878185444...|[0.68818287818544...|       0.0|\n",
      "|test|    0|[50.0,1.0,0.0,2.0...|  0.0|[87.1329670355460...|[0.87132967035546...|       0.0|\n",
      "|test|    0|[24.0,2.0,0.0,2.0...|  0.0|[90.9300516182025...|[0.90930051618202...|       0.0|\n",
      "|test|    0|[33.0,1.0,2.0,0.0...|  0.0|[57.6700255181330...|[0.57670025518133...|       0.0|\n",
      "|test|    0|[NaN,1.0,2.0,0.0,...|  0.0|[63.6567873648199...|[0.63656787364819...|       0.0|\n",
      "|test|    0|[30.0,1.0,0.0,1.0...|  0.0|[56.6872075407705...|[0.56687207540770...|       0.0|\n",
      "|test|    0|[18.5,0.0,0.0,0.0...|  0.0|[87.7913564044355...|[0.87791356404435...|       0.0|\n",
      "|test|    0|[NaN,0.0,0.0,0.0,...|  0.0|[58.3139119069529...|[0.58313911906952...|       0.0|\n",
      "|test|    0|[21.0,0.0,0.0,0.0...|  0.0|[57.1052126657111...|[0.57105212665711...|       0.0|\n",
      "|test|    0|[25.0,0.0,0.0,0.0...|  0.0|[88.3053656337749...|[0.88305365633775...|       0.0|\n",
      "|test|    0|[NaN,0.0,0.0,0.0,...|  0.0|[89.8461628383241...|[0.89846162838324...|       0.0|\n",
      "+----+-----+--------------------+-----+--------------------+--------------------+----------+\n",
      "only showing top 40 rows\n",
      "\n"
     ]
    }
   ],
   "source": [
    "model.show(40)\n"
   ]
  },
  {
   "cell_type": "code",
   "execution_count": 71,
   "metadata": {
    "collapsed": true
   },
   "outputs": [],
   "source": [
    "model.write.csv('submission.csv')"
   ]
  }
 ],
 "metadata": {
  "anaconda-cloud": {},
  "kernelspec": {
   "display_name": "Python [default]",
   "language": "python",
   "name": "python3"
  },
  "language_info": {
   "codemirror_mode": {
    "name": "ipython",
    "version": 3
   },
   "file_extension": ".py",
   "mimetype": "text/x-python",
   "name": "python",
   "nbconvert_exporter": "python",
   "pygments_lexer": "ipython3",
   "version": "3.5.2"
  }
 },
 "nbformat": 4,
 "nbformat_minor": 1
}
