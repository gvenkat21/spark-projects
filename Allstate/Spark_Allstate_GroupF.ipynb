{
 "cells": [
  {
   "cell_type": "code",
   "execution_count": 1,
   "metadata": {
    "collapsed": true
   },
   "outputs": [],
   "source": [
    "import numpy as np\n",
    "import pandas as pd\n",
    "import collections # For frequency counting\n",
    "import findspark\n",
    "findspark.init(\"/home/ubuntu/spark2\")\n",
    "\n",
    "import pyspark\n",
    "from pyspark.sql import DataFrameNaFunctions\n",
    "from pyspark.sql.functions import lit # Create columns of *literal* value\n",
    "from pyspark.sql.functions import col # Returns a Column based on the \n",
    "                                      # given column name\n",
    "from pyspark.ml.feature import StringIndexer #label encoding\n",
    "from pyspark.ml import Pipeline\n",
    "\n",
    "sc = pyspark.SparkContext(appName=\"helloworld\")"
   ]
  },
  {
   "cell_type": "code",
   "execution_count": 2,
   "metadata": {
    "collapsed": true
   },
   "outputs": [],
   "source": [
    "from pyspark.sql import SparkSession\n",
    "\n",
    "spark = SparkSession \\\n",
    "    .builder \\\n",
    "    .appName(\"Python Spark SQL basic example\") \\\n",
    "    .config(\"spark.some.config.option\", \"some-value\") \\\n",
    "    .getOrCreate()"
   ]
  },
  {
   "cell_type": "code",
   "execution_count": 3,
   "metadata": {
    "collapsed": true
   },
   "outputs": [],
   "source": [
    "trainDF = spark.read.csv(\"/home/ubuntu/Allstate-train/train.csv\", header=\"true\")\n",
    "testDF = spark.read.csv(\"/home/ubuntu/Allstate-train/test.csv\", header=\"true\")"
   ]
  },
  {
   "cell_type": "markdown",
   "metadata": {},
   "source": [
    "# Combine train and test"
   ]
  },
  {
   "cell_type": "code",
   "execution_count": 4,
   "metadata": {
    "collapsed": false
   },
   "outputs": [],
   "source": [
    "## Add Survived column to test, and dataset name as a column\n",
    "trainDF = trainDF.withColumn('mark', lit('train'))\n",
    "testDF = (testDF.withColumn('loss',lit(0))\n",
    "                .withColumn('mark', lit('test')))\n",
    "testDF = testDF[trainDF.columns]\n",
    "\n",
    "## Append Test data to Train data\n",
    "df = trainDF.unionAll(testDF)"
   ]
  },
  {
   "cell_type": "code",
   "execution_count": 5,
   "metadata": {
    "collapsed": true
   },
   "outputs": [],
   "source": [
    "df.createOrReplaceTempView(\"train\")"
   ]
  },
  {
   "cell_type": "code",
   "execution_count": 6,
   "metadata": {
    "collapsed": true
   },
   "outputs": [],
   "source": [
    "# Let's define function\n",
    "def to_anytype(df, colnames, typename):\n",
    "    for colname in colnames:\n",
    "        df = df.withColumn(\"tmp\", df[colname].cast(typename)) \\\n",
    "        .drop(colname) \\\n",
    "        .withColumnRenamed(\"tmp\", colname)\n",
    "    return(df)"
   ]
  },
  {
   "cell_type": "code",
   "execution_count": 7,
   "metadata": {
    "collapsed": true
   },
   "outputs": [],
   "source": [
    "floatCols = ['cont1', 'cont2', 'cont3', 'cont4', 'cont5', 'cont6', 'cont7', 'cont8', 'cont9', 'cont10', 'cont11', 'cont12', 'cont13', 'cont14', 'loss']\n",
    "df = to_anytype(df, floatCols, \"float\")"
   ]
  },
  {
   "cell_type": "code",
   "execution_count": null,
   "metadata": {
    "collapsed": false
   },
   "outputs": [],
   "source": [
    "df.show(1)"
   ]
  },
  {
   "cell_type": "markdown",
   "metadata": {},
   "source": [
    "# Categorical variable treatment"
   ]
  },
  {
   "cell_type": "code",
   "execution_count": 8,
   "metadata": {
    "collapsed": true
   },
   "outputs": [],
   "source": [
    "catVars = [\"cat1\", \"cat2\", \"cat3\", \"cat4\", \"cat5\", \"cat6\", \"cat7\", \"cat8\", \"cat9\", \"cat10\", \"cat11\", \"cat12\", \"cat13\", \"cat14\", \"cat15\", \"cat16\", \"cat17\", \"cat18\", \"cat19\", \"cat20\", \"cat21\", \"cat22\", \"cat23\", \"cat24\", \"cat25\", \"cat26\", \"cat27\", \"cat28\", \"cat29\", \"cat30\", \"cat31\", \"cat32\", \"cat33\", \"cat34\", \"cat35\", \"cat36\", \"cat37\", \"cat38\", \"cat39\", \"cat40\", \"cat41\", \"cat42\", \"cat43\", \"cat44\", \"cat45\", \"cat46\", \"cat47\", \"cat48\", \"cat49\", \"cat50\", \"cat51\", \"cat52\", \"cat53\", \"cat54\", \"cat55\", \"cat56\", \"cat57\", \"cat58\", \"cat59\", \"cat60\", \"cat61\", \"cat62\", \"cat63\", \"cat64\", \"cat65\", \"cat66\", \"cat67\", \"cat68\", \"cat69\", \"cat70\", \"cat71\", \"cat72\", \"cat73\", \"cat74\", \"cat75\", \"cat76\", \"cat77\", \"cat78\", \"cat79\", \"cat80\", \"cat81\", \"cat82\", \"cat83\", \"cat84\", \"cat85\", \"cat86\", \"cat87\", \"cat88\", \"cat89\", \"cat90\", \"cat91\", \"cat92\", \"cat93\", \"cat94\", \"cat95\", \"cat96\", \"cat97\", \"cat98\", \"cat99\", \"cat100\", \"cat101\", \"cat102\", \"cat103\", \"cat104\", \"cat105\", \"cat106\", \"cat107\", \"cat108\", \"cat109\", \"cat110\", \"cat111\", \"cat112\", \"cat113\", \"cat114\", \"cat115\", \"cat116\"]\n",
    " \n",
    "# make use of pipeline to index all categorical variables\n",
    "def indexer(df, col):\n",
    "    si = StringIndexer(inputCol = col, outputCol = col+'_indexed').fit(df)\n",
    "    return si\n",
    " \n",
    "indexers = [indexer(df, col) for col in catVars]"
   ]
  },
  {
   "cell_type": "code",
   "execution_count": 9,
   "metadata": {
    "collapsed": true
   },
   "outputs": [],
   "source": [
    "numVars = [\"cont1\", \"cont2\", \"cont3\", \"cont4\", \"cont5\", \"cont6\", \"cont7\", \"cont8\", \"cont9\", \"cont10\", \"cont11\", \"cont12\", \"cont13\", \"cont14\"]"
   ]
  },
  {
   "cell_type": "code",
   "execution_count": 67,
   "metadata": {
    "collapsed": false
   },
   "outputs": [
    {
     "name": "stdout",
     "output_type": "stream",
     "text": [
      "+---+\n",
      "| id|\n",
      "+---+\n",
      "|  1|\n",
      "|  2|\n",
      "|  5|\n",
      "+---+\n",
      "only showing top 3 rows\n",
      "\n"
     ]
    }
   ],
   "source": [
    "pipeline = Pipeline(stages = indexers)\n",
    "df_indexed = pipeline.fit(df).transform(df)\n",
    " \n",
    "df_indexed.select('id').show(3)"
   ]
  },
  {
   "cell_type": "markdown",
   "metadata": {},
   "source": [
    "# Data format translation"
   ]
  },
  {
   "cell_type": "code",
   "execution_count": 11,
   "metadata": {
    "collapsed": true
   },
   "outputs": [],
   "source": [
    "from pyspark.sql import Row\n",
    "from pyspark.ml.linalg import DenseVector"
   ]
  },
  {
   "cell_type": "code",
   "execution_count": 68,
   "metadata": {
    "collapsed": false
   },
   "outputs": [
    {
     "data": {
      "text/plain": [
       "['cat1_indexed',\n",
       " 'cat2_indexed',\n",
       " 'cat3_indexed',\n",
       " 'cat4_indexed',\n",
       " 'cat5_indexed',\n",
       " 'cat6_indexed',\n",
       " 'cat7_indexed',\n",
       " 'cat8_indexed',\n",
       " 'cat9_indexed',\n",
       " 'cat10_indexed',\n",
       " 'cat11_indexed',\n",
       " 'cat12_indexed',\n",
       " 'cat13_indexed',\n",
       " 'cat14_indexed',\n",
       " 'cat15_indexed',\n",
       " 'cat16_indexed',\n",
       " 'cat17_indexed',\n",
       " 'cat18_indexed',\n",
       " 'cat19_indexed',\n",
       " 'cat20_indexed',\n",
       " 'cat21_indexed',\n",
       " 'cat22_indexed',\n",
       " 'cat23_indexed',\n",
       " 'cat24_indexed',\n",
       " 'cat25_indexed',\n",
       " 'cat26_indexed',\n",
       " 'cat27_indexed',\n",
       " 'cat28_indexed',\n",
       " 'cat29_indexed',\n",
       " 'cat30_indexed',\n",
       " 'cat31_indexed',\n",
       " 'cat32_indexed',\n",
       " 'cat33_indexed',\n",
       " 'cat34_indexed',\n",
       " 'cat35_indexed',\n",
       " 'cat36_indexed',\n",
       " 'cat37_indexed',\n",
       " 'cat38_indexed',\n",
       " 'cat39_indexed',\n",
       " 'cat40_indexed',\n",
       " 'cat41_indexed',\n",
       " 'cat42_indexed',\n",
       " 'cat43_indexed',\n",
       " 'cat44_indexed',\n",
       " 'cat45_indexed',\n",
       " 'cat46_indexed',\n",
       " 'cat47_indexed',\n",
       " 'cat48_indexed',\n",
       " 'cat49_indexed',\n",
       " 'cat50_indexed',\n",
       " 'cat51_indexed',\n",
       " 'cat52_indexed',\n",
       " 'cat53_indexed',\n",
       " 'cat54_indexed',\n",
       " 'cat55_indexed',\n",
       " 'cat56_indexed',\n",
       " 'cat57_indexed',\n",
       " 'cat58_indexed',\n",
       " 'cat59_indexed',\n",
       " 'cat60_indexed',\n",
       " 'cat61_indexed',\n",
       " 'cat62_indexed',\n",
       " 'cat63_indexed',\n",
       " 'cat64_indexed',\n",
       " 'cat65_indexed',\n",
       " 'cat66_indexed',\n",
       " 'cat67_indexed',\n",
       " 'cat68_indexed',\n",
       " 'cat69_indexed',\n",
       " 'cat70_indexed',\n",
       " 'cat71_indexed',\n",
       " 'cat72_indexed',\n",
       " 'cat73_indexed',\n",
       " 'cat74_indexed',\n",
       " 'cat75_indexed',\n",
       " 'cat76_indexed',\n",
       " 'cat77_indexed',\n",
       " 'cat78_indexed',\n",
       " 'cat79_indexed',\n",
       " 'cat80_indexed',\n",
       " 'cat81_indexed',\n",
       " 'cat82_indexed',\n",
       " 'cat83_indexed',\n",
       " 'cat84_indexed',\n",
       " 'cat85_indexed',\n",
       " 'cat86_indexed',\n",
       " 'cat87_indexed',\n",
       " 'cat88_indexed',\n",
       " 'cat89_indexed',\n",
       " 'cat90_indexed',\n",
       " 'cat91_indexed',\n",
       " 'cat92_indexed',\n",
       " 'cat93_indexed',\n",
       " 'cat94_indexed',\n",
       " 'cat95_indexed',\n",
       " 'cat96_indexed',\n",
       " 'cat97_indexed',\n",
       " 'cat98_indexed',\n",
       " 'cat99_indexed',\n",
       " 'cat100_indexed',\n",
       " 'cat101_indexed',\n",
       " 'cat102_indexed',\n",
       " 'cat103_indexed',\n",
       " 'cat104_indexed',\n",
       " 'cat105_indexed',\n",
       " 'cat106_indexed',\n",
       " 'cat107_indexed',\n",
       " 'cat108_indexed',\n",
       " 'cat109_indexed',\n",
       " 'cat110_indexed',\n",
       " 'cat111_indexed',\n",
       " 'cat112_indexed',\n",
       " 'cat113_indexed',\n",
       " 'cat114_indexed',\n",
       " 'cat115_indexed',\n",
       " 'cat116_indexed']"
      ]
     },
     "execution_count": 68,
     "metadata": {},
     "output_type": "execute_result"
    }
   ],
   "source": [
    "catVarsIndexed = [i + '_indexed' for i in catVars]\n",
    "catVarsIndexed"
   ]
  },
  {
   "cell_type": "code",
   "execution_count": 43,
   "metadata": {
    "collapsed": false
   },
   "outputs": [
    {
     "data": {
      "text/plain": [
       "['cont1',\n",
       " 'cont2',\n",
       " 'cont3',\n",
       " 'cont4',\n",
       " 'cont5',\n",
       " 'cont6',\n",
       " 'cont7',\n",
       " 'cont8',\n",
       " 'cont9',\n",
       " 'cont10',\n",
       " 'cont11',\n",
       " 'cont12',\n",
       " 'cont13',\n",
       " 'cont14',\n",
       " 'cat18_indexed',\n",
       " 'cat67_indexed',\n",
       " 'cat17_indexed',\n",
       " 'cat51_indexed',\n",
       " 'cat61_indexed',\n",
       " 'cat21_indexed',\n",
       " 'cat14_indexed',\n",
       " 'cat33_indexed',\n",
       " 'cat59_indexed',\n",
       " 'cat56_indexed',\n",
       " 'cat22_indexed',\n",
       " 'cat48_indexed',\n",
       " 'cat63_indexed',\n",
       " 'cat60_indexed',\n",
       " 'cat55_indexed',\n",
       " 'cat46_indexed',\n",
       " 'cat68_indexed',\n",
       " 'cat58_indexed',\n",
       " 'cat35_indexed',\n",
       " 'cat34_indexed',\n",
       " 'cat69_indexed',\n",
       " 'cat70_indexed',\n",
       " 'cat47_indexed',\n",
       " 'cat64_indexed']"
      ]
     },
     "execution_count": 43,
     "metadata": {},
     "output_type": "execute_result"
    }
   ],
   "source": [
    "catVarsIndexed = ['cat18_indexed', 'cat67_indexed', 'cat17_indexed','cat51_indexed','cat61_indexed','cat21_indexed','cat14_indexed','cat33_indexed','cat59_indexed','cat56_indexed','cat22_indexed','cat48_indexed','cat63_indexed','cat60_indexed','cat55_indexed','cat46_indexed','cat68_indexed','cat58_indexed','cat35_indexed','cat34_indexed','cat69_indexed','cat70_indexed','cat47_indexed','cat64_indexed']"
   ]
  },
  {
   "cell_type": "code",
   "execution_count": 69,
   "metadata": {
    "collapsed": false
   },
   "outputs": [
    {
     "data": {
      "text/plain": [
       "['cont1',\n",
       " 'cont2',\n",
       " 'cont3',\n",
       " 'cont4',\n",
       " 'cont5',\n",
       " 'cont6',\n",
       " 'cont7',\n",
       " 'cont8',\n",
       " 'cont9',\n",
       " 'cont10',\n",
       " 'cont11',\n",
       " 'cont12',\n",
       " 'cont13',\n",
       " 'cont14',\n",
       " 'cat1_indexed',\n",
       " 'cat2_indexed',\n",
       " 'cat3_indexed',\n",
       " 'cat4_indexed',\n",
       " 'cat5_indexed',\n",
       " 'cat6_indexed',\n",
       " 'cat7_indexed',\n",
       " 'cat8_indexed',\n",
       " 'cat9_indexed',\n",
       " 'cat10_indexed',\n",
       " 'cat11_indexed',\n",
       " 'cat12_indexed',\n",
       " 'cat13_indexed',\n",
       " 'cat14_indexed',\n",
       " 'cat15_indexed',\n",
       " 'cat16_indexed',\n",
       " 'cat17_indexed',\n",
       " 'cat18_indexed',\n",
       " 'cat19_indexed',\n",
       " 'cat20_indexed',\n",
       " 'cat21_indexed',\n",
       " 'cat22_indexed',\n",
       " 'cat23_indexed',\n",
       " 'cat24_indexed',\n",
       " 'cat25_indexed',\n",
       " 'cat26_indexed',\n",
       " 'cat27_indexed',\n",
       " 'cat28_indexed',\n",
       " 'cat29_indexed',\n",
       " 'cat30_indexed',\n",
       " 'cat31_indexed',\n",
       " 'cat32_indexed',\n",
       " 'cat33_indexed',\n",
       " 'cat34_indexed',\n",
       " 'cat35_indexed',\n",
       " 'cat36_indexed',\n",
       " 'cat37_indexed',\n",
       " 'cat38_indexed',\n",
       " 'cat39_indexed',\n",
       " 'cat40_indexed',\n",
       " 'cat41_indexed',\n",
       " 'cat42_indexed',\n",
       " 'cat43_indexed',\n",
       " 'cat44_indexed',\n",
       " 'cat45_indexed',\n",
       " 'cat46_indexed',\n",
       " 'cat47_indexed',\n",
       " 'cat48_indexed',\n",
       " 'cat49_indexed',\n",
       " 'cat50_indexed',\n",
       " 'cat51_indexed',\n",
       " 'cat52_indexed',\n",
       " 'cat53_indexed',\n",
       " 'cat54_indexed',\n",
       " 'cat55_indexed',\n",
       " 'cat56_indexed',\n",
       " 'cat57_indexed',\n",
       " 'cat58_indexed',\n",
       " 'cat59_indexed',\n",
       " 'cat60_indexed',\n",
       " 'cat61_indexed',\n",
       " 'cat62_indexed',\n",
       " 'cat63_indexed',\n",
       " 'cat64_indexed',\n",
       " 'cat65_indexed',\n",
       " 'cat66_indexed',\n",
       " 'cat67_indexed',\n",
       " 'cat68_indexed',\n",
       " 'cat69_indexed',\n",
       " 'cat70_indexed',\n",
       " 'cat71_indexed',\n",
       " 'cat72_indexed',\n",
       " 'cat73_indexed',\n",
       " 'cat74_indexed',\n",
       " 'cat75_indexed',\n",
       " 'cat76_indexed',\n",
       " 'cat77_indexed',\n",
       " 'cat78_indexed',\n",
       " 'cat79_indexed',\n",
       " 'cat80_indexed',\n",
       " 'cat81_indexed',\n",
       " 'cat82_indexed',\n",
       " 'cat83_indexed',\n",
       " 'cat84_indexed',\n",
       " 'cat85_indexed',\n",
       " 'cat86_indexed',\n",
       " 'cat87_indexed',\n",
       " 'cat88_indexed',\n",
       " 'cat89_indexed',\n",
       " 'cat90_indexed',\n",
       " 'cat91_indexed',\n",
       " 'cat92_indexed',\n",
       " 'cat93_indexed',\n",
       " 'cat94_indexed',\n",
       " 'cat95_indexed',\n",
       " 'cat96_indexed',\n",
       " 'cat97_indexed',\n",
       " 'cat98_indexed',\n",
       " 'cat99_indexed',\n",
       " 'cat100_indexed',\n",
       " 'cat101_indexed',\n",
       " 'cat102_indexed',\n",
       " 'cat103_indexed',\n",
       " 'cat104_indexed',\n",
       " 'cat105_indexed',\n",
       " 'cat106_indexed',\n",
       " 'cat107_indexed',\n",
       " 'cat108_indexed',\n",
       " 'cat109_indexed',\n",
       " 'cat110_indexed',\n",
       " 'cat111_indexed',\n",
       " 'cat112_indexed',\n",
       " 'cat113_indexed',\n",
       " 'cat114_indexed',\n",
       " 'cat115_indexed',\n",
       " 'cat116_indexed']"
      ]
     },
     "execution_count": 69,
     "metadata": {},
     "output_type": "execute_result"
    }
   ],
   "source": [
    "featuresCol = numVars + catVarsIndexed\n",
    "featuresCol"
   ]
  },
  {
   "cell_type": "code",
   "execution_count": 70,
   "metadata": {
    "collapsed": false
   },
   "outputs": [
    {
     "data": {
      "text/plain": [
       "['id', 'mark', 'loss']"
      ]
     },
     "execution_count": 70,
     "metadata": {},
     "output_type": "execute_result"
    }
   ],
   "source": [
    "labelCol = ['id', 'mark','loss']\n",
    "labelCol"
   ]
  },
  {
   "cell_type": "code",
   "execution_count": 71,
   "metadata": {
    "collapsed": false
   },
   "outputs": [
    {
     "data": {
      "text/plain": [
       "<Row(id, mark, label, features)>"
      ]
     },
     "execution_count": 71,
     "metadata": {},
     "output_type": "execute_result"
    }
   ],
   "source": [
    "row = Row('id','mark','label','features') \n",
    "row"
   ]
  },
  {
   "cell_type": "code",
   "execution_count": 72,
   "metadata": {
    "collapsed": false,
    "scrolled": true
   },
   "outputs": [
    {
     "name": "stdout",
     "output_type": "stream",
     "text": [
      "+---+-----+-------+------+--------+--------+--------+--------+--------+-------+------+-------+------+--------+--------+--------+--------+------------+------------+------------+------------+------------+------------+------------+------------+------------+-------------+-------------+-------------+-------------+-------------+-------------+-------------+-------------+-------------+-------------+-------------+-------------+-------------+-------------+-------------+-------------+-------------+-------------+-------------+-------------+-------------+-------------+-------------+-------------+-------------+-------------+-------------+-------------+-------------+-------------+-------------+-------------+-------------+-------------+-------------+-------------+-------------+-------------+-------------+-------------+-------------+-------------+-------------+-------------+-------------+-------------+-------------+-------------+-------------+-------------+-------------+-------------+-------------+-------------+-------------+-------------+-------------+-------------+-------------+-------------+-------------+-------------+-------------+-------------+-------------+-------------+-------------+-------------+-------------+-------------+-------------+-------------+-------------+-------------+-------------+-------------+-------------+-------------+-------------+-------------+-------------+-------------+-------------+-------------+-------------+-------------+-------------+-------------+-------------+-------------+--------------+--------------+--------------+--------------+--------------+--------------+--------------+--------------+--------------+--------------+--------------+--------------+--------------+--------------+--------------+--------------+--------------+\n",
      "| id| mark|   loss| cont1|   cont2|   cont3|   cont4|   cont5|   cont6|  cont7| cont8|  cont9|cont10|  cont11|  cont12|  cont13|  cont14|cat1_indexed|cat2_indexed|cat3_indexed|cat4_indexed|cat5_indexed|cat6_indexed|cat7_indexed|cat8_indexed|cat9_indexed|cat10_indexed|cat11_indexed|cat12_indexed|cat13_indexed|cat14_indexed|cat15_indexed|cat16_indexed|cat17_indexed|cat18_indexed|cat19_indexed|cat20_indexed|cat21_indexed|cat22_indexed|cat23_indexed|cat24_indexed|cat25_indexed|cat26_indexed|cat27_indexed|cat28_indexed|cat29_indexed|cat30_indexed|cat31_indexed|cat32_indexed|cat33_indexed|cat34_indexed|cat35_indexed|cat36_indexed|cat37_indexed|cat38_indexed|cat39_indexed|cat40_indexed|cat41_indexed|cat42_indexed|cat43_indexed|cat44_indexed|cat45_indexed|cat46_indexed|cat47_indexed|cat48_indexed|cat49_indexed|cat50_indexed|cat51_indexed|cat52_indexed|cat53_indexed|cat54_indexed|cat55_indexed|cat56_indexed|cat57_indexed|cat58_indexed|cat59_indexed|cat60_indexed|cat61_indexed|cat62_indexed|cat63_indexed|cat64_indexed|cat65_indexed|cat66_indexed|cat67_indexed|cat68_indexed|cat69_indexed|cat70_indexed|cat71_indexed|cat72_indexed|cat73_indexed|cat74_indexed|cat75_indexed|cat76_indexed|cat77_indexed|cat78_indexed|cat79_indexed|cat80_indexed|cat81_indexed|cat82_indexed|cat83_indexed|cat84_indexed|cat85_indexed|cat86_indexed|cat87_indexed|cat88_indexed|cat89_indexed|cat90_indexed|cat91_indexed|cat92_indexed|cat93_indexed|cat94_indexed|cat95_indexed|cat96_indexed|cat97_indexed|cat98_indexed|cat99_indexed|cat100_indexed|cat101_indexed|cat102_indexed|cat103_indexed|cat104_indexed|cat105_indexed|cat106_indexed|cat107_indexed|cat108_indexed|cat109_indexed|cat110_indexed|cat111_indexed|cat112_indexed|cat113_indexed|cat114_indexed|cat115_indexed|cat116_indexed|\n",
      "+---+-----+-------+------+--------+--------+--------+--------+--------+-------+------+-------+------+--------+--------+--------+--------+------------+------------+------------+------------+------------+------------+------------+------------+------------+-------------+-------------+-------------+-------------+-------------+-------------+-------------+-------------+-------------+-------------+-------------+-------------+-------------+-------------+-------------+-------------+-------------+-------------+-------------+-------------+-------------+-------------+-------------+-------------+-------------+-------------+-------------+-------------+-------------+-------------+-------------+-------------+-------------+-------------+-------------+-------------+-------------+-------------+-------------+-------------+-------------+-------------+-------------+-------------+-------------+-------------+-------------+-------------+-------------+-------------+-------------+-------------+-------------+-------------+-------------+-------------+-------------+-------------+-------------+-------------+-------------+-------------+-------------+-------------+-------------+-------------+-------------+-------------+-------------+-------------+-------------+-------------+-------------+-------------+-------------+-------------+-------------+-------------+-------------+-------------+-------------+-------------+-------------+-------------+-------------+-------------+-------------+-------------+-------------+-------------+--------------+--------------+--------------+--------------+--------------+--------------+--------------+--------------+--------------+--------------+--------------+--------------+--------------+--------------+--------------+--------------+--------------+\n",
      "|  1|train|2213.18|0.7263|0.245921|0.187583|0.789639|0.310061|0.718367|0.33506|0.3026|0.67135|0.8351|0.569745|0.594646|0.822493|0.714843|         0.0|         1.0|         0.0|         1.0|         0.0|         0.0|         0.0|         0.0|         1.0|          0.0|          1.0|          0.0|          0.0|          0.0|          0.0|          0.0|          0.0|          0.0|          0.0|          0.0|          0.0|          0.0|          1.0|          0.0|          0.0|          0.0|          0.0|          0.0|          0.0|          0.0|          0.0|          0.0|          0.0|          0.0|          0.0|          0.0|          0.0|          0.0|          0.0|          0.0|          0.0|          0.0|          0.0|          0.0|          0.0|          0.0|          0.0|          0.0|          0.0|          0.0|          0.0|          0.0|          0.0|          0.0|          0.0|          0.0|          0.0|          0.0|          0.0|          0.0|          0.0|          0.0|          0.0|          0.0|          0.0|          0.0|          0.0|          0.0|          0.0|          0.0|          0.0|          0.0|          0.0|          0.0|          1.0|          0.0|          0.0|          0.0|          0.0|          0.0|          0.0|          0.0|          2.0|          0.0|          0.0|          1.0|          0.0|          0.0|          0.0|          0.0|          0.0|          0.0|          0.0|          1.0|          0.0|          0.0|          2.0|          2.0|          1.0|           9.0|           3.0|           0.0|           0.0|           6.0|           0.0|           0.0|           3.0|           2.0|           2.0|           7.0|           1.0|           2.0|           7.0|           0.0|           1.0|          14.0|\n",
      "+---+-----+-------+------+--------+--------+--------+--------+--------+-------+------+-------+------+--------+--------+--------+--------+------------+------------+------------+------------+------------+------------+------------+------------+------------+-------------+-------------+-------------+-------------+-------------+-------------+-------------+-------------+-------------+-------------+-------------+-------------+-------------+-------------+-------------+-------------+-------------+-------------+-------------+-------------+-------------+-------------+-------------+-------------+-------------+-------------+-------------+-------------+-------------+-------------+-------------+-------------+-------------+-------------+-------------+-------------+-------------+-------------+-------------+-------------+-------------+-------------+-------------+-------------+-------------+-------------+-------------+-------------+-------------+-------------+-------------+-------------+-------------+-------------+-------------+-------------+-------------+-------------+-------------+-------------+-------------+-------------+-------------+-------------+-------------+-------------+-------------+-------------+-------------+-------------+-------------+-------------+-------------+-------------+-------------+-------------+-------------+-------------+-------------+-------------+-------------+-------------+-------------+-------------+-------------+-------------+-------------+-------------+-------------+-------------+--------------+--------------+--------------+--------------+--------------+--------------+--------------+--------------+--------------+--------------+--------------+--------------+--------------+--------------+--------------+--------------+--------------+\n",
      "only showing top 1 row\n",
      "\n"
     ]
    }
   ],
   "source": [
    "df_indexed = df_indexed[labelCol + featuresCol]\n",
    "df_indexed.show(1)"
   ]
  },
  {
   "cell_type": "code",
   "execution_count": 73,
   "metadata": {
    "collapsed": false,
    "scrolled": true
   },
   "outputs": [
    {
     "name": "stdout",
     "output_type": "stream",
     "text": [
      "+---+-----+------------------+--------------------+\n",
      "| id| mark|             label|            features|\n",
      "+---+-----+------------------+--------------------+\n",
      "|  1|train| 2213.179931640625|[0.72630000114440...|\n",
      "|  2|train|1283.5999755859375|[0.33051401376724...|\n",
      "|  5|train| 3005.090087890625|[0.26184099912643...|\n",
      "| 10|train| 939.8499755859375|[0.32159399986267...|\n",
      "| 11|train|  2763.85009765625|[0.27320399880409...|\n",
      "| 13|train|   5142.8701171875|[0.54667001962661...|\n",
      "| 14|train| 1132.219970703125|[0.47144699096679...|\n",
      "| 20|train|           3585.75|[0.82659101486206...|\n",
      "| 23|train|  10280.2001953125|[0.33051401376724...|\n",
      "| 24|train|     6184.58984375|[0.72630000114440...|\n",
      "| 25|train|  6396.85009765625|[0.49606299400329...|\n",
      "| 33|train|  5965.72998046875|[0.52069801092147...|\n",
      "| 34|train| 1193.050048828125|[0.32159399986267...|\n",
      "| 41|train|  1071.77001953125|[0.35135799646377...|\n",
      "| 47|train| 585.1799926757812|[0.89433300495147...|\n",
      "| 48|train| 1395.449951171875|[0.47289198637008...|\n",
      "| 49|train|  6609.31982421875|[0.42416200041770...|\n",
      "| 51|train| 2658.699951171875|[0.83474701642990...|\n",
      "| 52|train|  4167.31982421875|[0.48881599307060...|\n",
      "| 55|train| 3797.889892578125|[0.39195600152015...|\n",
      "+---+-----+------------------+--------------------+\n",
      "only showing top 20 rows\n",
      "\n"
     ]
    }
   ],
   "source": [
    "# 0-mark, 1-label, 2-features\n",
    "# map features to DenseVector\n",
    "lf = df_indexed.rdd.map(lambda r: (row(r[0], r[1], r[2], DenseVector(r[3:])))).toDF()\n",
    "lf.show()"
   ]
  },
  {
   "cell_type": "code",
   "execution_count": 74,
   "metadata": {
    "collapsed": false
   },
   "outputs": [
    {
     "name": "stdout",
     "output_type": "stream",
     "text": [
      "+---+-----+------------------+--------------------+--------+\n",
      "| id| mark|             label|            features|   index|\n",
      "+---+-----+------------------+--------------------+--------+\n",
      "|  1|train| 2213.179931640625|[0.72630000114440...| 22259.0|\n",
      "|  2|train|1283.5999755859375|[0.33051401376724...|132074.0|\n",
      "|  5|train| 3005.090087890625|[0.26184099912643...|106882.0|\n",
      "+---+-----+------------------+--------------------+--------+\n",
      "only showing top 3 rows\n",
      "\n"
     ]
    }
   ],
   "source": [
    "# index label\n",
    "# convert numeric label to categorical, which is required by\n",
    "# decisionTree and randomForest\n",
    "lf = StringIndexer(inputCol = 'label', outputCol='index').fit(lf).transform(lf)\n",
    " \n",
    "lf.show(3)"
   ]
  },
  {
   "cell_type": "markdown",
   "metadata": {},
   "source": [
    "## Split back into train and test"
   ]
  },
  {
   "cell_type": "code",
   "execution_count": 75,
   "metadata": {
    "collapsed": true
   },
   "outputs": [],
   "source": [
    "train = lf.where(lf.mark =='train')\n",
    "test = lf.where(lf.mark =='test')"
   ]
  },
  {
   "cell_type": "code",
   "execution_count": null,
   "metadata": {
    "collapsed": false
   },
   "outputs": [],
   "source": [
    "train.show(5)"
   ]
  },
  {
   "cell_type": "markdown",
   "metadata": {},
   "source": [
    "# Modeling"
   ]
  },
  {
   "cell_type": "code",
   "execution_count": 60,
   "metadata": {
    "collapsed": false
   },
   "outputs": [
    {
     "ename": "KeyboardInterrupt",
     "evalue": "",
     "output_type": "error",
     "traceback": [
      "\u001b[0;31m---------------------------------------------------------------------------\u001b[0m",
      "\u001b[0;31mKeyboardInterrupt\u001b[0m                         Traceback (most recent call last)",
      "\u001b[0;32m<ipython-input-60-f79d36483b46>\u001b[0m in \u001b[0;36m<module>\u001b[0;34m()\u001b[0m\n\u001b[1;32m      2\u001b[0m \u001b[0;34m\u001b[0m\u001b[0m\n\u001b[1;32m      3\u001b[0m \u001b[0;31m# regPara: lasso regularisation parameter (L1)\u001b[0m\u001b[0;34m\u001b[0m\u001b[0;34m\u001b[0m\u001b[0m\n\u001b[0;32m----> 4\u001b[0;31m \u001b[0mlr\u001b[0m \u001b[0;34m=\u001b[0m \u001b[0mLinearRegression\u001b[0m\u001b[0;34m(\u001b[0m\u001b[0mmaxIter\u001b[0m \u001b[0;34m=\u001b[0m \u001b[0;36m100\u001b[0m\u001b[0;34m,\u001b[0m \u001b[0mregParam\u001b[0m \u001b[0;34m=\u001b[0m \u001b[0;36m100\u001b[0m\u001b[0;34m,\u001b[0m \u001b[0mlabelCol\u001b[0m\u001b[0;34m=\u001b[0m\u001b[0;34m'index'\u001b[0m\u001b[0;34m)\u001b[0m\u001b[0;34m.\u001b[0m\u001b[0mfit\u001b[0m\u001b[0;34m(\u001b[0m\u001b[0mtrain\u001b[0m\u001b[0;34m)\u001b[0m\u001b[0;34m\u001b[0m\u001b[0m\n\u001b[0m",
      "\u001b[0;32m/home/ubuntu/spark2/python/pyspark/ml/base.py\u001b[0m in \u001b[0;36mfit\u001b[0;34m(self, dataset, params)\u001b[0m\n\u001b[1;32m     62\u001b[0m                 \u001b[0;32mreturn\u001b[0m \u001b[0mself\u001b[0m\u001b[0;34m.\u001b[0m\u001b[0mcopy\u001b[0m\u001b[0;34m(\u001b[0m\u001b[0mparams\u001b[0m\u001b[0;34m)\u001b[0m\u001b[0;34m.\u001b[0m\u001b[0m_fit\u001b[0m\u001b[0;34m(\u001b[0m\u001b[0mdataset\u001b[0m\u001b[0;34m)\u001b[0m\u001b[0;34m\u001b[0m\u001b[0m\n\u001b[1;32m     63\u001b[0m             \u001b[0;32melse\u001b[0m\u001b[0;34m:\u001b[0m\u001b[0;34m\u001b[0m\u001b[0m\n\u001b[0;32m---> 64\u001b[0;31m                 \u001b[0;32mreturn\u001b[0m \u001b[0mself\u001b[0m\u001b[0;34m.\u001b[0m\u001b[0m_fit\u001b[0m\u001b[0;34m(\u001b[0m\u001b[0mdataset\u001b[0m\u001b[0;34m)\u001b[0m\u001b[0;34m\u001b[0m\u001b[0m\n\u001b[0m\u001b[1;32m     65\u001b[0m         \u001b[0;32melse\u001b[0m\u001b[0;34m:\u001b[0m\u001b[0;34m\u001b[0m\u001b[0m\n\u001b[1;32m     66\u001b[0m             raise ValueError(\"Params must be either a param map or a list/tuple of param maps, \"\n",
      "\u001b[0;32m/home/ubuntu/spark2/python/pyspark/ml/wrapper.py\u001b[0m in \u001b[0;36m_fit\u001b[0;34m(self, dataset)\u001b[0m\n\u001b[1;32m    211\u001b[0m \u001b[0;34m\u001b[0m\u001b[0m\n\u001b[1;32m    212\u001b[0m     \u001b[0;32mdef\u001b[0m \u001b[0m_fit\u001b[0m\u001b[0;34m(\u001b[0m\u001b[0mself\u001b[0m\u001b[0;34m,\u001b[0m \u001b[0mdataset\u001b[0m\u001b[0;34m)\u001b[0m\u001b[0;34m:\u001b[0m\u001b[0;34m\u001b[0m\u001b[0m\n\u001b[0;32m--> 213\u001b[0;31m         \u001b[0mjava_model\u001b[0m \u001b[0;34m=\u001b[0m \u001b[0mself\u001b[0m\u001b[0;34m.\u001b[0m\u001b[0m_fit_java\u001b[0m\u001b[0;34m(\u001b[0m\u001b[0mdataset\u001b[0m\u001b[0;34m)\u001b[0m\u001b[0;34m\u001b[0m\u001b[0m\n\u001b[0m\u001b[1;32m    214\u001b[0m         \u001b[0;32mreturn\u001b[0m \u001b[0mself\u001b[0m\u001b[0;34m.\u001b[0m\u001b[0m_create_model\u001b[0m\u001b[0;34m(\u001b[0m\u001b[0mjava_model\u001b[0m\u001b[0;34m)\u001b[0m\u001b[0;34m\u001b[0m\u001b[0m\n\u001b[1;32m    215\u001b[0m \u001b[0;34m\u001b[0m\u001b[0m\n",
      "\u001b[0;32m/home/ubuntu/spark2/python/pyspark/ml/wrapper.py\u001b[0m in \u001b[0;36m_fit_java\u001b[0;34m(self, dataset)\u001b[0m\n\u001b[1;32m    208\u001b[0m         \"\"\"\n\u001b[1;32m    209\u001b[0m         \u001b[0mself\u001b[0m\u001b[0;34m.\u001b[0m\u001b[0m_transfer_params_to_java\u001b[0m\u001b[0;34m(\u001b[0m\u001b[0;34m)\u001b[0m\u001b[0;34m\u001b[0m\u001b[0m\n\u001b[0;32m--> 210\u001b[0;31m         \u001b[0;32mreturn\u001b[0m \u001b[0mself\u001b[0m\u001b[0;34m.\u001b[0m\u001b[0m_java_obj\u001b[0m\u001b[0;34m.\u001b[0m\u001b[0mfit\u001b[0m\u001b[0;34m(\u001b[0m\u001b[0mdataset\u001b[0m\u001b[0;34m.\u001b[0m\u001b[0m_jdf\u001b[0m\u001b[0;34m)\u001b[0m\u001b[0;34m\u001b[0m\u001b[0m\n\u001b[0m\u001b[1;32m    211\u001b[0m \u001b[0;34m\u001b[0m\u001b[0m\n\u001b[1;32m    212\u001b[0m     \u001b[0;32mdef\u001b[0m \u001b[0m_fit\u001b[0m\u001b[0;34m(\u001b[0m\u001b[0mself\u001b[0m\u001b[0;34m,\u001b[0m \u001b[0mdataset\u001b[0m\u001b[0;34m)\u001b[0m\u001b[0;34m:\u001b[0m\u001b[0;34m\u001b[0m\u001b[0m\n",
      "\u001b[0;32m/home/ubuntu/spark2/python/lib/py4j-0.10.3-src.zip/py4j/java_gateway.py\u001b[0m in \u001b[0;36m__call__\u001b[0;34m(self, *args)\u001b[0m\n\u001b[1;32m   1129\u001b[0m             \u001b[0mproto\u001b[0m\u001b[0;34m.\u001b[0m\u001b[0mEND_COMMAND_PART\u001b[0m\u001b[0;34m\u001b[0m\u001b[0m\n\u001b[1;32m   1130\u001b[0m \u001b[0;34m\u001b[0m\u001b[0m\n\u001b[0;32m-> 1131\u001b[0;31m         \u001b[0manswer\u001b[0m \u001b[0;34m=\u001b[0m \u001b[0mself\u001b[0m\u001b[0;34m.\u001b[0m\u001b[0mgateway_client\u001b[0m\u001b[0;34m.\u001b[0m\u001b[0msend_command\u001b[0m\u001b[0;34m(\u001b[0m\u001b[0mcommand\u001b[0m\u001b[0;34m)\u001b[0m\u001b[0;34m\u001b[0m\u001b[0m\n\u001b[0m\u001b[1;32m   1132\u001b[0m         return_value = get_return_value(\n\u001b[1;32m   1133\u001b[0m             answer, self.gateway_client, self.target_id, self.name)\n",
      "\u001b[0;32m/home/ubuntu/spark2/python/lib/py4j-0.10.3-src.zip/py4j/java_gateway.py\u001b[0m in \u001b[0;36msend_command\u001b[0;34m(self, command, retry, binary)\u001b[0m\n\u001b[1;32m    881\u001b[0m         \u001b[0mconnection\u001b[0m \u001b[0;34m=\u001b[0m \u001b[0mself\u001b[0m\u001b[0;34m.\u001b[0m\u001b[0m_get_connection\u001b[0m\u001b[0;34m(\u001b[0m\u001b[0;34m)\u001b[0m\u001b[0;34m\u001b[0m\u001b[0m\n\u001b[1;32m    882\u001b[0m         \u001b[0;32mtry\u001b[0m\u001b[0;34m:\u001b[0m\u001b[0;34m\u001b[0m\u001b[0m\n\u001b[0;32m--> 883\u001b[0;31m             \u001b[0mresponse\u001b[0m \u001b[0;34m=\u001b[0m \u001b[0mconnection\u001b[0m\u001b[0;34m.\u001b[0m\u001b[0msend_command\u001b[0m\u001b[0;34m(\u001b[0m\u001b[0mcommand\u001b[0m\u001b[0;34m)\u001b[0m\u001b[0;34m\u001b[0m\u001b[0m\n\u001b[0m\u001b[1;32m    884\u001b[0m             \u001b[0;32mif\u001b[0m \u001b[0mbinary\u001b[0m\u001b[0;34m:\u001b[0m\u001b[0;34m\u001b[0m\u001b[0m\n\u001b[1;32m    885\u001b[0m                 \u001b[0;32mreturn\u001b[0m \u001b[0mresponse\u001b[0m\u001b[0;34m,\u001b[0m \u001b[0mself\u001b[0m\u001b[0;34m.\u001b[0m\u001b[0m_create_connection_guard\u001b[0m\u001b[0;34m(\u001b[0m\u001b[0mconnection\u001b[0m\u001b[0;34m)\u001b[0m\u001b[0;34m\u001b[0m\u001b[0m\n",
      "\u001b[0;32m/home/ubuntu/spark2/python/lib/py4j-0.10.3-src.zip/py4j/java_gateway.py\u001b[0m in \u001b[0;36msend_command\u001b[0;34m(self, command)\u001b[0m\n\u001b[1;32m   1026\u001b[0m \u001b[0;34m\u001b[0m\u001b[0m\n\u001b[1;32m   1027\u001b[0m         \u001b[0;32mtry\u001b[0m\u001b[0;34m:\u001b[0m\u001b[0;34m\u001b[0m\u001b[0m\n\u001b[0;32m-> 1028\u001b[0;31m             \u001b[0manswer\u001b[0m \u001b[0;34m=\u001b[0m \u001b[0msmart_decode\u001b[0m\u001b[0;34m(\u001b[0m\u001b[0mself\u001b[0m\u001b[0;34m.\u001b[0m\u001b[0mstream\u001b[0m\u001b[0;34m.\u001b[0m\u001b[0mreadline\u001b[0m\u001b[0;34m(\u001b[0m\u001b[0;34m)\u001b[0m\u001b[0;34m[\u001b[0m\u001b[0;34m:\u001b[0m\u001b[0;34m-\u001b[0m\u001b[0;36m1\u001b[0m\u001b[0;34m]\u001b[0m\u001b[0;34m)\u001b[0m\u001b[0;34m\u001b[0m\u001b[0m\n\u001b[0m\u001b[1;32m   1029\u001b[0m             \u001b[0mlogger\u001b[0m\u001b[0;34m.\u001b[0m\u001b[0mdebug\u001b[0m\u001b[0;34m(\u001b[0m\u001b[0;34m\"Answer received: {0}\"\u001b[0m\u001b[0;34m.\u001b[0m\u001b[0mformat\u001b[0m\u001b[0;34m(\u001b[0m\u001b[0manswer\u001b[0m\u001b[0;34m)\u001b[0m\u001b[0;34m)\u001b[0m\u001b[0;34m\u001b[0m\u001b[0m\n\u001b[1;32m   1030\u001b[0m             \u001b[0;32mif\u001b[0m \u001b[0manswer\u001b[0m\u001b[0;34m.\u001b[0m\u001b[0mstartswith\u001b[0m\u001b[0;34m(\u001b[0m\u001b[0mproto\u001b[0m\u001b[0;34m.\u001b[0m\u001b[0mRETURN_MESSAGE\u001b[0m\u001b[0;34m)\u001b[0m\u001b[0;34m:\u001b[0m\u001b[0;34m\u001b[0m\u001b[0m\n",
      "\u001b[0;32m/home/ubuntu/anaconda3/lib/python3.5/socket.py\u001b[0m in \u001b[0;36mreadinto\u001b[0;34m(self, b)\u001b[0m\n\u001b[1;32m    573\u001b[0m         \u001b[0;32mwhile\u001b[0m \u001b[0;32mTrue\u001b[0m\u001b[0;34m:\u001b[0m\u001b[0;34m\u001b[0m\u001b[0m\n\u001b[1;32m    574\u001b[0m             \u001b[0;32mtry\u001b[0m\u001b[0;34m:\u001b[0m\u001b[0;34m\u001b[0m\u001b[0m\n\u001b[0;32m--> 575\u001b[0;31m                 \u001b[0;32mreturn\u001b[0m \u001b[0mself\u001b[0m\u001b[0;34m.\u001b[0m\u001b[0m_sock\u001b[0m\u001b[0;34m.\u001b[0m\u001b[0mrecv_into\u001b[0m\u001b[0;34m(\u001b[0m\u001b[0mb\u001b[0m\u001b[0;34m)\u001b[0m\u001b[0;34m\u001b[0m\u001b[0m\n\u001b[0m\u001b[1;32m    576\u001b[0m             \u001b[0;32mexcept\u001b[0m \u001b[0mtimeout\u001b[0m\u001b[0;34m:\u001b[0m\u001b[0;34m\u001b[0m\u001b[0m\n\u001b[1;32m    577\u001b[0m                 \u001b[0mself\u001b[0m\u001b[0;34m.\u001b[0m\u001b[0m_timeout_occurred\u001b[0m \u001b[0;34m=\u001b[0m \u001b[0;32mTrue\u001b[0m\u001b[0;34m\u001b[0m\u001b[0m\n",
      "\u001b[0;31mKeyboardInterrupt\u001b[0m: "
     ]
    }
   ],
   "source": [
    "from pyspark.ml.regression import LinearRegression\n",
    " \n",
    "# regPara: lasso regularisation parameter (L1)\n",
    "lr = LinearRegression(maxIter = 100, regParam = 100, labelCol='index').fit(train)"
   ]
  },
  {
   "cell_type": "code",
   "execution_count": 81,
   "metadata": {
    "collapsed": false
   },
   "outputs": [],
   "source": [
    "from pyspark.ml.regression import GBTRegressor\n",
    "gbt = GBTRegressor(maxIter = 100, labelCol = 'index', subsamplingRate= 0.8, featuresCol= 'features').fit(train)"
   ]
  },
  {
   "cell_type": "code",
   "execution_count": 76,
   "metadata": {
    "collapsed": true
   },
   "outputs": [],
   "source": [
    "from pyspark.ml.regression import RandomForestRegressor\n",
    "rf = RandomForestRegressor(featuresCol=\"features\", labelCol = 'index').fit(train)"
   ]
  },
  {
   "cell_type": "code",
   "execution_count": 82,
   "metadata": {
    "collapsed": false,
    "scrolled": true
   },
   "outputs": [],
   "source": [
    "pred_test = gbt.transform(test)"
   ]
  },
  {
   "cell_type": "code",
   "execution_count": 83,
   "metadata": {
    "collapsed": false
   },
   "outputs": [],
   "source": [
    "submission = pred_test.selectExpr(\"id as id\",'prediction as loss')"
   ]
  },
  {
   "cell_type": "code",
   "execution_count": null,
   "metadata": {
    "collapsed": false
   },
   "outputs": [],
   "source": [
    "submission.show(5)"
   ]
  },
  {
   "cell_type": "code",
   "execution_count": 84,
   "metadata": {
    "collapsed": false
   },
   "outputs": [],
   "source": [
    "submission.write.csv('submission.csv')"
   ]
  }
 ],
 "metadata": {
  "anaconda-cloud": {},
  "kernelspec": {
   "display_name": "Python [default]",
   "language": "python",
   "name": "python3"
  },
  "language_info": {
   "codemirror_mode": {
    "name": "ipython",
    "version": 3
   },
   "file_extension": ".py",
   "mimetype": "text/x-python",
   "name": "python",
   "nbconvert_exporter": "python",
   "pygments_lexer": "ipython3",
   "version": "3.5.2"
  }
 },
 "nbformat": 4,
 "nbformat_minor": 1
}
